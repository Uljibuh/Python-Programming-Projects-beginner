{
 "cells": [
  {
   "cell_type": "code",
   "execution_count": 1,
   "id": "f75e3111",
   "metadata": {
    "_cell_guid": "b1076dfc-b9ad-4769-8c92-a6c4dae69d19",
    "_uuid": "8f2839f25d086af736a60e9eeb907d3b93b6e0e5",
    "execution": {
     "iopub.execute_input": "2022-04-26T12:51:24.212477Z",
     "iopub.status.busy": "2022-04-26T12:51:24.211276Z",
     "iopub.status.idle": "2022-04-26T12:51:24.221555Z",
     "shell.execute_reply": "2022-04-26T12:51:24.220672Z"
    },
    "papermill": {
     "duration": 0.100166,
     "end_time": "2022-04-26T12:51:24.223765",
     "exception": false,
     "start_time": "2022-04-26T12:51:24.123599",
     "status": "completed"
    },
    "tags": []
   },
   "outputs": [],
   "source": [
    "# This Python 3 environment comes with many helpful analytics libraries installed\n",
    "# It is defined by the kaggle/python Docker image: https://github.com/kaggle/docker-python\n",
    "# For example, here's several helpful packages to load\n",
    "\n",
    "import numpy as np # linear algebra\n",
    "import pandas as pd # data processing, CSV file I/O (e.g. pd.read_csv)\n",
    "\n"
   ]
  },
  {
   "cell_type": "markdown",
   "id": "46c34ac6",
   "metadata": {
    "papermill": {
     "duration": 0.082652,
     "end_time": "2022-04-26T12:51:24.390830",
     "exception": false,
     "start_time": "2022-04-26T12:51:24.308178",
     "status": "completed"
    },
    "tags": []
   },
   "source": [
    "# List"
   ]
  },
  {
   "cell_type": "code",
   "execution_count": 2,
   "id": "b3464ccc",
   "metadata": {
    "execution": {
     "iopub.execute_input": "2022-04-26T12:51:24.562889Z",
     "iopub.status.busy": "2022-04-26T12:51:24.562079Z",
     "iopub.status.idle": "2022-04-26T12:51:24.567575Z",
     "shell.execute_reply": "2022-04-26T12:51:24.566934Z"
    },
    "papermill": {
     "duration": 0.094634,
     "end_time": "2022-04-26T12:51:24.570260",
     "exception": false,
     "start_time": "2022-04-26T12:51:24.475626",
     "status": "completed"
    },
    "tags": []
   },
   "outputs": [
    {
     "name": "stdout",
     "output_type": "stream",
     "text": [
      "['banana', 'chery', 'apple']\n"
     ]
    }
   ],
   "source": [
    "mylist = [\"banana\", \"chery\", \"apple\"]\n",
    "print(mylist)"
   ]
  },
  {
   "cell_type": "code",
   "execution_count": 3,
   "id": "4c472dc0",
   "metadata": {
    "execution": {
     "iopub.execute_input": "2022-04-26T12:51:24.752490Z",
     "iopub.status.busy": "2022-04-26T12:51:24.751349Z",
     "iopub.status.idle": "2022-04-26T12:51:24.757629Z",
     "shell.execute_reply": "2022-04-26T12:51:24.756755Z"
    },
    "papermill": {
     "duration": 0.099289,
     "end_time": "2022-04-26T12:51:24.759677",
     "exception": false,
     "start_time": "2022-04-26T12:51:24.660388",
     "status": "completed"
    },
    "tags": []
   },
   "outputs": [
    {
     "name": "stdout",
     "output_type": "stream",
     "text": [
      "banana\n"
     ]
    }
   ],
   "source": [
    "item = mylist[0]\n",
    "print(item)"
   ]
  },
  {
   "cell_type": "code",
   "execution_count": 4,
   "id": "9f86ce8b",
   "metadata": {
    "execution": {
     "iopub.execute_input": "2022-04-26T12:51:24.965783Z",
     "iopub.status.busy": "2022-04-26T12:51:24.965194Z",
     "iopub.status.idle": "2022-04-26T12:51:24.971209Z",
     "shell.execute_reply": "2022-04-26T12:51:24.970039Z"
    },
    "papermill": {
     "duration": 0.106633,
     "end_time": "2022-04-26T12:51:24.973154",
     "exception": false,
     "start_time": "2022-04-26T12:51:24.866521",
     "status": "completed"
    },
    "tags": []
   },
   "outputs": [
    {
     "name": "stdout",
     "output_type": "stream",
     "text": [
      "banana\n",
      "chery\n",
      "apple\n"
     ]
    }
   ],
   "source": [
    "for i in mylist:\n",
    "    print(i)"
   ]
  },
  {
   "cell_type": "code",
   "execution_count": 5,
   "id": "7d369c9e",
   "metadata": {
    "execution": {
     "iopub.execute_input": "2022-04-26T12:51:25.165063Z",
     "iopub.status.busy": "2022-04-26T12:51:25.164361Z",
     "iopub.status.idle": "2022-04-26T12:51:25.170780Z",
     "shell.execute_reply": "2022-04-26T12:51:25.169290Z"
    },
    "papermill": {
     "duration": 0.105083,
     "end_time": "2022-04-26T12:51:25.173858",
     "exception": false,
     "start_time": "2022-04-26T12:51:25.068775",
     "status": "completed"
    },
    "tags": []
   },
   "outputs": [
    {
     "name": "stdout",
     "output_type": "stream",
     "text": [
      "yes\n"
     ]
    }
   ],
   "source": [
    "if \"banana\" in mylist:\n",
    "    print(\"yes\")\n",
    "else:\n",
    "    print(\"No\")    "
   ]
  },
  {
   "cell_type": "code",
   "execution_count": 6,
   "id": "2cc41fe8",
   "metadata": {
    "execution": {
     "iopub.execute_input": "2022-04-26T12:51:25.347080Z",
     "iopub.status.busy": "2022-04-26T12:51:25.346389Z",
     "iopub.status.idle": "2022-04-26T12:51:25.352526Z",
     "shell.execute_reply": "2022-04-26T12:51:25.351526Z"
    },
    "papermill": {
     "duration": 0.095915,
     "end_time": "2022-04-26T12:51:25.356006",
     "exception": false,
     "start_time": "2022-04-26T12:51:25.260091",
     "status": "completed"
    },
    "tags": []
   },
   "outputs": [
    {
     "name": "stdout",
     "output_type": "stream",
     "text": [
      "3\n"
     ]
    }
   ],
   "source": [
    "print(len(mylist))"
   ]
  },
  {
   "cell_type": "code",
   "execution_count": 7,
   "id": "a0e331ac",
   "metadata": {
    "execution": {
     "iopub.execute_input": "2022-04-26T12:51:25.530596Z",
     "iopub.status.busy": "2022-04-26T12:51:25.529661Z",
     "iopub.status.idle": "2022-04-26T12:51:25.536636Z",
     "shell.execute_reply": "2022-04-26T12:51:25.535034Z"
    },
    "papermill": {
     "duration": 0.097456,
     "end_time": "2022-04-26T12:51:25.540093",
     "exception": false,
     "start_time": "2022-04-26T12:51:25.442637",
     "status": "completed"
    },
    "tags": []
   },
   "outputs": [
    {
     "name": "stdout",
     "output_type": "stream",
     "text": [
      "['banana', 'chery', 'apple', 'lemon']\n"
     ]
    }
   ],
   "source": [
    "mylist.append(\"lemon\")\n",
    "print(mylist)"
   ]
  },
  {
   "cell_type": "code",
   "execution_count": 8,
   "id": "a31596c2",
   "metadata": {
    "execution": {
     "iopub.execute_input": "2022-04-26T12:51:25.719187Z",
     "iopub.status.busy": "2022-04-26T12:51:25.718800Z",
     "iopub.status.idle": "2022-04-26T12:51:25.724211Z",
     "shell.execute_reply": "2022-04-26T12:51:25.723459Z"
    },
    "papermill": {
     "duration": 0.095859,
     "end_time": "2022-04-26T12:51:25.727717",
     "exception": false,
     "start_time": "2022-04-26T12:51:25.631858",
     "status": "completed"
    },
    "tags": []
   },
   "outputs": [
    {
     "name": "stdout",
     "output_type": "stream",
     "text": [
      "['banana', 'blueberry', 'chery', 'apple', 'lemon']\n"
     ]
    }
   ],
   "source": [
    "# insert at index number 1\n",
    "mylist.insert(1, \"blueberry\")\n",
    "print(mylist)"
   ]
  },
  {
   "cell_type": "code",
   "execution_count": 9,
   "id": "96334603",
   "metadata": {
    "execution": {
     "iopub.execute_input": "2022-04-26T12:51:25.904052Z",
     "iopub.status.busy": "2022-04-26T12:51:25.902767Z",
     "iopub.status.idle": "2022-04-26T12:51:25.908926Z",
     "shell.execute_reply": "2022-04-26T12:51:25.907690Z"
    },
    "papermill": {
     "duration": 0.094815,
     "end_time": "2022-04-26T12:51:25.911040",
     "exception": false,
     "start_time": "2022-04-26T12:51:25.816225",
     "status": "completed"
    },
    "tags": []
   },
   "outputs": [
    {
     "name": "stdout",
     "output_type": "stream",
     "text": [
      "lemon\n",
      "['banana', 'blueberry', 'chery', 'apple']\n"
     ]
    }
   ],
   "source": [
    "item = mylist.pop()\n",
    "print(item)\n",
    "print(mylist)"
   ]
  },
  {
   "cell_type": "code",
   "execution_count": 10,
   "id": "200b9122",
   "metadata": {
    "execution": {
     "iopub.execute_input": "2022-04-26T12:51:26.084098Z",
     "iopub.status.busy": "2022-04-26T12:51:26.083435Z",
     "iopub.status.idle": "2022-04-26T12:51:26.088226Z",
     "shell.execute_reply": "2022-04-26T12:51:26.087520Z"
    },
    "papermill": {
     "duration": 0.093448,
     "end_time": "2022-04-26T12:51:26.090158",
     "exception": false,
     "start_time": "2022-04-26T12:51:25.996710",
     "status": "completed"
    },
    "tags": []
   },
   "outputs": [
    {
     "name": "stdout",
     "output_type": "stream",
     "text": [
      "None\n",
      "['banana', 'blueberry', 'apple']\n"
     ]
    }
   ],
   "source": [
    "item = mylist.remove(\"chery\")\n",
    "print(item)\n",
    "print(mylist)"
   ]
  },
  {
   "cell_type": "code",
   "execution_count": 11,
   "id": "594bc2fb",
   "metadata": {
    "execution": {
     "iopub.execute_input": "2022-04-26T12:51:26.264753Z",
     "iopub.status.busy": "2022-04-26T12:51:26.264153Z",
     "iopub.status.idle": "2022-04-26T12:51:26.269302Z",
     "shell.execute_reply": "2022-04-26T12:51:26.268219Z"
    },
    "papermill": {
     "duration": 0.096992,
     "end_time": "2022-04-26T12:51:26.272422",
     "exception": false,
     "start_time": "2022-04-26T12:51:26.175430",
     "status": "completed"
    },
    "tags": []
   },
   "outputs": [
    {
     "name": "stdout",
     "output_type": "stream",
     "text": [
      "['apple', 'blueberry', 'banana']\n"
     ]
    }
   ],
   "source": [
    "item = mylist.reverse()\n",
    "print(mylist)"
   ]
  },
  {
   "cell_type": "code",
   "execution_count": 12,
   "id": "cacc8895",
   "metadata": {
    "execution": {
     "iopub.execute_input": "2022-04-26T12:51:26.449895Z",
     "iopub.status.busy": "2022-04-26T12:51:26.448965Z",
     "iopub.status.idle": "2022-04-26T12:51:26.454152Z",
     "shell.execute_reply": "2022-04-26T12:51:26.453568Z"
    },
    "papermill": {
     "duration": 0.097257,
     "end_time": "2022-04-26T12:51:26.457349",
     "exception": false,
     "start_time": "2022-04-26T12:51:26.360092",
     "status": "completed"
    },
    "tags": []
   },
   "outputs": [
    {
     "name": "stdout",
     "output_type": "stream",
     "text": [
      "[4, 3, 1, -1, -5, 10]\n",
      "[-5, -1, 1, 3, 4, 10]\n"
     ]
    }
   ],
   "source": [
    "mylist = [4,3,1,-1,-5,10]\n",
    "print(mylist)\n",
    "item = mylist.sort()\n",
    "print(mylist)"
   ]
  },
  {
   "cell_type": "code",
   "execution_count": 13,
   "id": "e5c9b2cb",
   "metadata": {
    "execution": {
     "iopub.execute_input": "2022-04-26T12:51:26.633242Z",
     "iopub.status.busy": "2022-04-26T12:51:26.632579Z",
     "iopub.status.idle": "2022-04-26T12:51:26.637999Z",
     "shell.execute_reply": "2022-04-26T12:51:26.636679Z"
    },
    "papermill": {
     "duration": 0.096666,
     "end_time": "2022-04-26T12:51:26.641184",
     "exception": false,
     "start_time": "2022-04-26T12:51:26.544518",
     "status": "completed"
    },
    "tags": []
   },
   "outputs": [
    {
     "name": "stdout",
     "output_type": "stream",
     "text": [
      "[-5, -1, 1, 3, 4, 10]\n",
      "[-5, -1, 1, 3, 4, 10]\n"
     ]
    }
   ],
   "source": [
    "new_list = sorted(mylist)\n",
    "print(mylist)\n",
    "print(new_list)"
   ]
  },
  {
   "cell_type": "code",
   "execution_count": 14,
   "id": "32f1e6d3",
   "metadata": {
    "execution": {
     "iopub.execute_input": "2022-04-26T12:51:26.818337Z",
     "iopub.status.busy": "2022-04-26T12:51:26.817602Z",
     "iopub.status.idle": "2022-04-26T12:51:26.822194Z",
     "shell.execute_reply": "2022-04-26T12:51:26.821554Z"
    },
    "papermill": {
     "duration": 0.09534,
     "end_time": "2022-04-26T12:51:26.824526",
     "exception": false,
     "start_time": "2022-04-26T12:51:26.729186",
     "status": "completed"
    },
    "tags": []
   },
   "outputs": [
    {
     "name": "stdout",
     "output_type": "stream",
     "text": [
      "[1, 1, 1, 1, 1]\n"
     ]
    }
   ],
   "source": [
    "mylist = [1] * 5\n",
    "print(mylist)"
   ]
  },
  {
   "cell_type": "code",
   "execution_count": 15,
   "id": "0283b8cf",
   "metadata": {
    "execution": {
     "iopub.execute_input": "2022-04-26T12:51:27.004344Z",
     "iopub.status.busy": "2022-04-26T12:51:27.003698Z",
     "iopub.status.idle": "2022-04-26T12:51:27.008983Z",
     "shell.execute_reply": "2022-04-26T12:51:27.008026Z"
    },
    "papermill": {
     "duration": 0.096632,
     "end_time": "2022-04-26T12:51:27.010970",
     "exception": false,
     "start_time": "2022-04-26T12:51:26.914338",
     "status": "completed"
    },
    "tags": []
   },
   "outputs": [
    {
     "name": "stdout",
     "output_type": "stream",
     "text": [
      "[1, 1, 1, 1, 1, 1, 2, 3, 4, 5]\n"
     ]
    }
   ],
   "source": [
    "mylist = [1] * 5\n",
    "mylist2 = [1,2,3,4,5]\n",
    "new_list = mylist + mylist2\n",
    "print(new_list)"
   ]
  },
  {
   "cell_type": "markdown",
   "id": "2b3b94c9",
   "metadata": {
    "papermill": {
     "duration": 0.088383,
     "end_time": "2022-04-26T12:51:27.185758",
     "exception": false,
     "start_time": "2022-04-26T12:51:27.097375",
     "status": "completed"
    },
    "tags": []
   },
   "source": [
    "**Slicing**"
   ]
  },
  {
   "cell_type": "code",
   "execution_count": 16,
   "id": "ea594a77",
   "metadata": {
    "execution": {
     "iopub.execute_input": "2022-04-26T12:51:27.366188Z",
     "iopub.status.busy": "2022-04-26T12:51:27.365637Z",
     "iopub.status.idle": "2022-04-26T12:51:27.371486Z",
     "shell.execute_reply": "2022-04-26T12:51:27.370319Z"
    },
    "papermill": {
     "duration": 0.098594,
     "end_time": "2022-04-26T12:51:27.373574",
     "exception": false,
     "start_time": "2022-04-26T12:51:27.274980",
     "status": "completed"
    },
    "tags": []
   },
   "outputs": [
    {
     "name": "stdout",
     "output_type": "stream",
     "text": [
      "[2, 3, 4, 5]\n",
      "[1, 3, 5, 7, 9]\n"
     ]
    }
   ],
   "source": [
    "mylist = [1,2,3,4,5,6,7,8,9]\n",
    "a = mylist[1:5]\n",
    "b = mylist[::2]\n",
    "print(a)\n",
    "print(b)"
   ]
  },
  {
   "cell_type": "code",
   "execution_count": 17,
   "id": "1be2a1ad",
   "metadata": {
    "execution": {
     "iopub.execute_input": "2022-04-26T12:51:27.552031Z",
     "iopub.status.busy": "2022-04-26T12:51:27.551537Z",
     "iopub.status.idle": "2022-04-26T12:51:27.558177Z",
     "shell.execute_reply": "2022-04-26T12:51:27.556817Z"
    },
    "papermill": {
     "duration": 0.099765,
     "end_time": "2022-04-26T12:51:27.561185",
     "exception": false,
     "start_time": "2022-04-26T12:51:27.461420",
     "status": "completed"
    },
    "tags": []
   },
   "outputs": [
    {
     "name": "stdout",
     "output_type": "stream",
     "text": [
      "['banana', 'blueberry', 'chery', 'apple', 'lemon']\n",
      "['banana', 'blueberry', 'chery', 'apple', 'lemon', 'water']\n"
     ]
    }
   ],
   "source": [
    "list_org = ['banana', 'blueberry', 'chery', 'apple', 'lemon']\n",
    "list_cpy = list_org.copy()\n",
    "list_cpy.append(\"water\")\n",
    "print(list_org)\n",
    "print(list_cpy)"
   ]
  },
  {
   "cell_type": "code",
   "execution_count": 18,
   "id": "06b03c8d",
   "metadata": {
    "execution": {
     "iopub.execute_input": "2022-04-26T12:51:27.743354Z",
     "iopub.status.busy": "2022-04-26T12:51:27.742109Z",
     "iopub.status.idle": "2022-04-26T12:51:27.749367Z",
     "shell.execute_reply": "2022-04-26T12:51:27.747891Z"
    },
    "papermill": {
     "duration": 0.10299,
     "end_time": "2022-04-26T12:51:27.752943",
     "exception": false,
     "start_time": "2022-04-26T12:51:27.649953",
     "status": "completed"
    },
    "tags": []
   },
   "outputs": [
    {
     "name": "stdout",
     "output_type": "stream",
     "text": [
      "[1, 2, 3, 4, 5, 6, 7, 8, 9]\n",
      "[1, 4, 9, 16, 25, 36, 49, 64, 81]\n"
     ]
    }
   ],
   "source": [
    "mylist = [1,2,3,4,5,6,7,8,9]\n",
    "b = [ i*i for i in mylist]\n",
    "print(mylist)\n",
    "print(b)"
   ]
  },
  {
   "cell_type": "markdown",
   "id": "531d1bb0",
   "metadata": {
    "papermill": {
     "duration": 0.089648,
     "end_time": "2022-04-26T12:51:27.931893",
     "exception": false,
     "start_time": "2022-04-26T12:51:27.842245",
     "status": "completed"
    },
    "tags": []
   },
   "source": [
    "# Tuple\n",
    "* ordered\n",
    "* immutable \n",
    "* allows duplicate elements"
   ]
  },
  {
   "cell_type": "code",
   "execution_count": 19,
   "id": "8d07498b",
   "metadata": {
    "execution": {
     "iopub.execute_input": "2022-04-26T12:51:28.110928Z",
     "iopub.status.busy": "2022-04-26T12:51:28.110430Z",
     "iopub.status.idle": "2022-04-26T12:51:28.115546Z",
     "shell.execute_reply": "2022-04-26T12:51:28.114730Z"
    },
    "papermill": {
     "duration": 0.095743,
     "end_time": "2022-04-26T12:51:28.117682",
     "exception": false,
     "start_time": "2022-04-26T12:51:28.021939",
     "status": "completed"
    },
    "tags": []
   },
   "outputs": [
    {
     "name": "stdout",
     "output_type": "stream",
     "text": [
      "('max', 28, 'boston')\n"
     ]
    }
   ],
   "source": [
    "mytuple = (\"max\", 28, \"boston\")\n",
    "print(mytuple)"
   ]
  },
  {
   "cell_type": "code",
   "execution_count": 20,
   "id": "5ad83184",
   "metadata": {
    "execution": {
     "iopub.execute_input": "2022-04-26T12:51:28.297307Z",
     "iopub.status.busy": "2022-04-26T12:51:28.296907Z",
     "iopub.status.idle": "2022-04-26T12:51:28.302192Z",
     "shell.execute_reply": "2022-04-26T12:51:28.301176Z"
    },
    "papermill": {
     "duration": 0.099168,
     "end_time": "2022-04-26T12:51:28.305394",
     "exception": false,
     "start_time": "2022-04-26T12:51:28.206226",
     "status": "completed"
    },
    "tags": []
   },
   "outputs": [
    {
     "name": "stdout",
     "output_type": "stream",
     "text": [
      "('max', 28, 'boston')\n"
     ]
    }
   ],
   "source": [
    "mytuple = tuple([\"max\", 28, \"boston\"])\n",
    "print(mytuple)"
   ]
  },
  {
   "cell_type": "code",
   "execution_count": 21,
   "id": "17174f8b",
   "metadata": {
    "execution": {
     "iopub.execute_input": "2022-04-26T12:51:28.485869Z",
     "iopub.status.busy": "2022-04-26T12:51:28.485567Z",
     "iopub.status.idle": "2022-04-26T12:51:28.490652Z",
     "shell.execute_reply": "2022-04-26T12:51:28.489702Z"
    },
    "papermill": {
     "duration": 0.098911,
     "end_time": "2022-04-26T12:51:28.493005",
     "exception": false,
     "start_time": "2022-04-26T12:51:28.394094",
     "status": "completed"
    },
    "tags": []
   },
   "outputs": [
    {
     "name": "stdout",
     "output_type": "stream",
     "text": [
      "max\n"
     ]
    }
   ],
   "source": [
    "item = mytuple[0]\n",
    "print(item)"
   ]
  },
  {
   "cell_type": "code",
   "execution_count": 22,
   "id": "e0262193",
   "metadata": {
    "execution": {
     "iopub.execute_input": "2022-04-26T12:51:28.673716Z",
     "iopub.status.busy": "2022-04-26T12:51:28.673051Z",
     "iopub.status.idle": "2022-04-26T12:51:28.678351Z",
     "shell.execute_reply": "2022-04-26T12:51:28.677294Z"
    },
    "papermill": {
     "duration": 0.098228,
     "end_time": "2022-04-26T12:51:28.681053",
     "exception": false,
     "start_time": "2022-04-26T12:51:28.582825",
     "status": "completed"
    },
    "tags": []
   },
   "outputs": [
    {
     "name": "stdout",
     "output_type": "stream",
     "text": [
      "max\n",
      "28\n",
      "boston\n"
     ]
    }
   ],
   "source": [
    "for x in mytuple:\n",
    "    print(x)"
   ]
  },
  {
   "cell_type": "code",
   "execution_count": 23,
   "id": "18714145",
   "metadata": {
    "execution": {
     "iopub.execute_input": "2022-04-26T12:51:28.862574Z",
     "iopub.status.busy": "2022-04-26T12:51:28.861940Z",
     "iopub.status.idle": "2022-04-26T12:51:28.866737Z",
     "shell.execute_reply": "2022-04-26T12:51:28.865955Z"
    },
    "papermill": {
     "duration": 0.097284,
     "end_time": "2022-04-26T12:51:28.868489",
     "exception": false,
     "start_time": "2022-04-26T12:51:28.771205",
     "status": "completed"
    },
    "tags": []
   },
   "outputs": [
    {
     "name": "stdout",
     "output_type": "stream",
     "text": [
      "no\n"
     ]
    }
   ],
   "source": [
    "if \"mx\" in mytuple:\n",
    "    print(\"yes\")\n",
    "else:\n",
    "    print(\"no\")"
   ]
  },
  {
   "cell_type": "code",
   "execution_count": 24,
   "id": "7740323e",
   "metadata": {
    "execution": {
     "iopub.execute_input": "2022-04-26T12:51:29.051052Z",
     "iopub.status.busy": "2022-04-26T12:51:29.050181Z",
     "iopub.status.idle": "2022-04-26T12:51:29.057550Z",
     "shell.execute_reply": "2022-04-26T12:51:29.056409Z"
    },
    "papermill": {
     "duration": 0.102286,
     "end_time": "2022-04-26T12:51:29.059767",
     "exception": false,
     "start_time": "2022-04-26T12:51:28.957481",
     "status": "completed"
    },
    "tags": []
   },
   "outputs": [
    {
     "name": "stdout",
     "output_type": "stream",
     "text": [
      "5\n",
      "2\n",
      "1\n",
      "4\n"
     ]
    }
   ],
   "source": [
    "my_tuple = ('a', 'p', 'p', 'l', 'e')\n",
    "print(len(my_tuple))\n",
    "\n",
    "print(my_tuple.count('p'))\n",
    "\n",
    "print(my_tuple.count('l'))\n",
    "\n",
    "print(my_tuple.index('e'))\n",
    "\n",
    "\n"
   ]
  },
  {
   "cell_type": "code",
   "execution_count": 25,
   "id": "aee3ed9a",
   "metadata": {
    "execution": {
     "iopub.execute_input": "2022-04-26T12:51:29.242064Z",
     "iopub.status.busy": "2022-04-26T12:51:29.241719Z",
     "iopub.status.idle": "2022-04-26T12:51:29.248165Z",
     "shell.execute_reply": "2022-04-26T12:51:29.247059Z"
    },
    "papermill": {
     "duration": 0.099723,
     "end_time": "2022-04-26T12:51:29.250231",
     "exception": false,
     "start_time": "2022-04-26T12:51:29.150508",
     "status": "completed"
    },
    "tags": []
   },
   "outputs": [
    {
     "name": "stdout",
     "output_type": "stream",
     "text": [
      "[1, 2, 3, 4, 5, 6, 7, 8, 9]\n",
      "(1, 2, 3, 4, 5, 6, 7, 8, 9)\n"
     ]
    }
   ],
   "source": [
    "my_tuple = ('a', 'p', 'p', 'l', 'e')\n",
    "\n",
    "my_list = list(my_tuple)\n",
    "print(mylist)\n",
    "\n",
    "mytuple2 = tuple(mylist)\n",
    "print(mytuple2)"
   ]
  },
  {
   "cell_type": "code",
   "execution_count": 26,
   "id": "165a663d",
   "metadata": {
    "execution": {
     "iopub.execute_input": "2022-04-26T12:51:29.432624Z",
     "iopub.status.busy": "2022-04-26T12:51:29.432332Z",
     "iopub.status.idle": "2022-04-26T12:51:29.436601Z",
     "shell.execute_reply": "2022-04-26T12:51:29.436073Z"
    },
    "papermill": {
     "duration": 0.098221,
     "end_time": "2022-04-26T12:51:29.438742",
     "exception": false,
     "start_time": "2022-04-26T12:51:29.340521",
     "status": "completed"
    },
    "tags": []
   },
   "outputs": [
    {
     "name": "stdout",
     "output_type": "stream",
     "text": [
      "(4, 5, 6, 7, 8, 9, 10)\n"
     ]
    }
   ],
   "source": [
    "a = (1,2,3,4,5,6,7,8,9,10)\n",
    "b = a[3:]\n",
    "print(b)\n",
    "\n"
   ]
  },
  {
   "cell_type": "code",
   "execution_count": 27,
   "id": "24228143",
   "metadata": {
    "execution": {
     "iopub.execute_input": "2022-04-26T12:51:29.625902Z",
     "iopub.status.busy": "2022-04-26T12:51:29.624952Z",
     "iopub.status.idle": "2022-04-26T12:51:29.631144Z",
     "shell.execute_reply": "2022-04-26T12:51:29.629841Z"
    },
    "papermill": {
     "duration": 0.100971,
     "end_time": "2022-04-26T12:51:29.632943",
     "exception": false,
     "start_time": "2022-04-26T12:51:29.531972",
     "status": "completed"
    },
    "tags": []
   },
   "outputs": [
    {
     "name": "stdout",
     "output_type": "stream",
     "text": [
      "max\n",
      "28\n",
      "boston\n"
     ]
    }
   ],
   "source": [
    "mytuple = (\"max\", 28, \"boston\")\n",
    "\n",
    "name, age, city = mytuple\n",
    "print(name)\n",
    "print(age)\n",
    "print(city)"
   ]
  },
  {
   "cell_type": "code",
   "execution_count": 28,
   "id": "ade0ebf0",
   "metadata": {
    "execution": {
     "iopub.execute_input": "2022-04-26T12:51:29.817513Z",
     "iopub.status.busy": "2022-04-26T12:51:29.816848Z",
     "iopub.status.idle": "2022-04-26T12:51:29.821773Z",
     "shell.execute_reply": "2022-04-26T12:51:29.821189Z"
    },
    "papermill": {
     "duration": 0.100095,
     "end_time": "2022-04-26T12:51:29.823668",
     "exception": false,
     "start_time": "2022-04-26T12:51:29.723573",
     "status": "completed"
    },
    "tags": []
   },
   "outputs": [
    {
     "name": "stdout",
     "output_type": "stream",
     "text": [
      "[2, 3, 4, 5]\n",
      "6\n"
     ]
    }
   ],
   "source": [
    "a = (1,2,3,4,5,6)\n",
    "i1, *i2, i3 = a\n",
    "print(i2)\n",
    "print(i3)\n"
   ]
  },
  {
   "cell_type": "code",
   "execution_count": 29,
   "id": "658de970",
   "metadata": {
    "execution": {
     "iopub.execute_input": "2022-04-26T12:51:30.009589Z",
     "iopub.status.busy": "2022-04-26T12:51:30.009283Z",
     "iopub.status.idle": "2022-04-26T12:51:30.014642Z",
     "shell.execute_reply": "2022-04-26T12:51:30.013865Z"
    },
    "papermill": {
     "duration": 0.102219,
     "end_time": "2022-04-26T12:51:30.017130",
     "exception": false,
     "start_time": "2022-04-26T12:51:29.914911",
     "status": "completed"
    },
    "tags": []
   },
   "outputs": [
    {
     "name": "stdout",
     "output_type": "stream",
     "text": [
      "112 bytes\n",
      "96 bytes\n"
     ]
    }
   ],
   "source": [
    "import sys\n",
    "my_list = [0,1,2,\"hello\", True]\n",
    "my_tuple = (0,1,2,\"hello\", True)\n",
    "\n",
    "print(sys.getsizeof(my_list), \"bytes\")\n",
    "print(sys.getsizeof(my_tuple), \"bytes\")\n"
   ]
  },
  {
   "cell_type": "code",
   "execution_count": 30,
   "id": "ecacca00",
   "metadata": {
    "execution": {
     "iopub.execute_input": "2022-04-26T12:51:30.205077Z",
     "iopub.status.busy": "2022-04-26T12:51:30.204409Z",
     "iopub.status.idle": "2022-04-26T12:51:30.287202Z",
     "shell.execute_reply": "2022-04-26T12:51:30.286178Z"
    },
    "papermill": {
     "duration": 0.178698,
     "end_time": "2022-04-26T12:51:30.289502",
     "exception": false,
     "start_time": "2022-04-26T12:51:30.110804",
     "status": "completed"
    },
    "tags": []
   },
   "outputs": [
    {
     "name": "stdout",
     "output_type": "stream",
     "text": [
      "0.06691025700001774\n",
      "0.009201432999986991\n"
     ]
    }
   ],
   "source": [
    "import timeit\n",
    "print(timeit.timeit(stmt=\"[0,1,2,3,4,5]\", number=1000000))\n",
    "print(timeit.timeit(stmt=\"(0,1,2,3,4,5)\", number=1000000))"
   ]
  },
  {
   "cell_type": "markdown",
   "id": "252f7a75",
   "metadata": {
    "papermill": {
     "duration": 0.092104,
     "end_time": "2022-04-26T12:51:30.473612",
     "exception": false,
     "start_time": "2022-04-26T12:51:30.381508",
     "status": "completed"
    },
    "tags": []
   },
   "source": [
    "# Dictionary\n",
    "* key-value pairs\n",
    "* unordered\n",
    "* mutable\n"
   ]
  },
  {
   "cell_type": "code",
   "execution_count": 31,
   "id": "3c6fcb43",
   "metadata": {
    "execution": {
     "iopub.execute_input": "2022-04-26T12:51:30.662333Z",
     "iopub.status.busy": "2022-04-26T12:51:30.661953Z",
     "iopub.status.idle": "2022-04-26T12:51:30.666676Z",
     "shell.execute_reply": "2022-04-26T12:51:30.665907Z"
    },
    "papermill": {
     "duration": 0.103316,
     "end_time": "2022-04-26T12:51:30.669833",
     "exception": false,
     "start_time": "2022-04-26T12:51:30.566517",
     "status": "completed"
    },
    "tags": []
   },
   "outputs": [
    {
     "name": "stdout",
     "output_type": "stream",
     "text": [
      "{'name': 'max', 'age': 28, 'city': 'new york'}\n"
     ]
    }
   ],
   "source": [
    "mydict = {\"name\": \"max\", \"age\": 28, \"city\": \"new york\"}\n",
    "print(mydict)"
   ]
  },
  {
   "cell_type": "code",
   "execution_count": 32,
   "id": "afb986cd",
   "metadata": {
    "execution": {
     "iopub.execute_input": "2022-04-26T12:51:30.857570Z",
     "iopub.status.busy": "2022-04-26T12:51:30.856810Z",
     "iopub.status.idle": "2022-04-26T12:51:30.862138Z",
     "shell.execute_reply": "2022-04-26T12:51:30.861467Z"
    },
    "papermill": {
     "duration": 0.102834,
     "end_time": "2022-04-26T12:51:30.864442",
     "exception": false,
     "start_time": "2022-04-26T12:51:30.761608",
     "status": "completed"
    },
    "tags": []
   },
   "outputs": [
    {
     "name": "stdout",
     "output_type": "stream",
     "text": [
      "{'name': 'mary', 'age': 27, 'city': 'boston'}\n",
      "27\n"
     ]
    }
   ],
   "source": [
    "mydict2 = dict(name=\"mary\", age=27, city=\"boston\")\n",
    "print(mydict2)\n",
    "value = mydict2[\"age\"]\n",
    "print(value)"
   ]
  },
  {
   "cell_type": "code",
   "execution_count": 33,
   "id": "d1e55ec4",
   "metadata": {
    "execution": {
     "iopub.execute_input": "2022-04-26T12:51:31.055261Z",
     "iopub.status.busy": "2022-04-26T12:51:31.054696Z",
     "iopub.status.idle": "2022-04-26T12:51:31.059225Z",
     "shell.execute_reply": "2022-04-26T12:51:31.058543Z"
    },
    "papermill": {
     "duration": 0.102503,
     "end_time": "2022-04-26T12:51:31.062207",
     "exception": false,
     "start_time": "2022-04-26T12:51:30.959704",
     "status": "completed"
    },
    "tags": []
   },
   "outputs": [
    {
     "name": "stdout",
     "output_type": "stream",
     "text": [
      "{'name': 'max', 'age': 28, 'city': 'new york', 'email': 'max@xyz.com'}\n"
     ]
    }
   ],
   "source": [
    "mydict[\"email\"] = \"max@xyz.com\"\n",
    "print(mydict)"
   ]
  },
  {
   "cell_type": "code",
   "execution_count": 34,
   "id": "797e6196",
   "metadata": {
    "execution": {
     "iopub.execute_input": "2022-04-26T12:51:31.252610Z",
     "iopub.status.busy": "2022-04-26T12:51:31.252078Z",
     "iopub.status.idle": "2022-04-26T12:51:31.257344Z",
     "shell.execute_reply": "2022-04-26T12:51:31.255685Z"
    },
    "papermill": {
     "duration": 0.104136,
     "end_time": "2022-04-26T12:51:31.260505",
     "exception": false,
     "start_time": "2022-04-26T12:51:31.156369",
     "status": "completed"
    },
    "tags": []
   },
   "outputs": [
    {
     "name": "stdout",
     "output_type": "stream",
     "text": [
      "{'name': 'max', 'city': 'new york', 'email': 'max@xyz.com'}\n"
     ]
    }
   ],
   "source": [
    "mydict.pop(\"age\")\n",
    "print(mydict)"
   ]
  },
  {
   "cell_type": "code",
   "execution_count": 35,
   "id": "e6f7316c",
   "metadata": {
    "execution": {
     "iopub.execute_input": "2022-04-26T12:51:31.456846Z",
     "iopub.status.busy": "2022-04-26T12:51:31.456270Z",
     "iopub.status.idle": "2022-04-26T12:51:31.461222Z",
     "shell.execute_reply": "2022-04-26T12:51:31.460429Z"
    },
    "papermill": {
     "duration": 0.10311,
     "end_time": "2022-04-26T12:51:31.464026",
     "exception": false,
     "start_time": "2022-04-26T12:51:31.360916",
     "status": "completed"
    },
    "tags": []
   },
   "outputs": [
    {
     "name": "stdout",
     "output_type": "stream",
     "text": [
      "yes\n"
     ]
    }
   ],
   "source": [
    "if \"name\" in mydict:\n",
    "    print(\"yes\")\n",
    "else:\n",
    "    print(\"no\")"
   ]
  },
  {
   "cell_type": "code",
   "execution_count": 36,
   "id": "26e1dd32",
   "metadata": {
    "execution": {
     "iopub.execute_input": "2022-04-26T12:51:31.653858Z",
     "iopub.status.busy": "2022-04-26T12:51:31.653351Z",
     "iopub.status.idle": "2022-04-26T12:51:31.658258Z",
     "shell.execute_reply": "2022-04-26T12:51:31.657310Z"
    },
    "papermill": {
     "duration": 0.101516,
     "end_time": "2022-04-26T12:51:31.660224",
     "exception": false,
     "start_time": "2022-04-26T12:51:31.558708",
     "status": "completed"
    },
    "tags": []
   },
   "outputs": [
    {
     "name": "stdout",
     "output_type": "stream",
     "text": [
      "max\n"
     ]
    }
   ],
   "source": [
    "try:\n",
    "    print(mydict[\"name\"])\n",
    "except:\n",
    "    print(\"Error\")"
   ]
  },
  {
   "cell_type": "code",
   "execution_count": 37,
   "id": "634c9942",
   "metadata": {
    "execution": {
     "iopub.execute_input": "2022-04-26T12:51:31.848288Z",
     "iopub.status.busy": "2022-04-26T12:51:31.847706Z",
     "iopub.status.idle": "2022-04-26T12:51:31.852828Z",
     "shell.execute_reply": "2022-04-26T12:51:31.851763Z"
    },
    "papermill": {
     "duration": 0.101133,
     "end_time": "2022-04-26T12:51:31.854771",
     "exception": false,
     "start_time": "2022-04-26T12:51:31.753638",
     "status": "completed"
    },
    "tags": []
   },
   "outputs": [
    {
     "name": "stdout",
     "output_type": "stream",
     "text": [
      "name\n",
      "city\n",
      "email\n"
     ]
    }
   ],
   "source": [
    "for key in mydict:\n",
    "    print(key)"
   ]
  },
  {
   "cell_type": "code",
   "execution_count": 38,
   "id": "42a46016",
   "metadata": {
    "execution": {
     "iopub.execute_input": "2022-04-26T12:51:32.043572Z",
     "iopub.status.busy": "2022-04-26T12:51:32.043209Z",
     "iopub.status.idle": "2022-04-26T12:51:32.048318Z",
     "shell.execute_reply": "2022-04-26T12:51:32.047412Z"
    },
    "papermill": {
     "duration": 0.102483,
     "end_time": "2022-04-26T12:51:32.049971",
     "exception": false,
     "start_time": "2022-04-26T12:51:31.947488",
     "status": "completed"
    },
    "tags": []
   },
   "outputs": [
    {
     "name": "stdout",
     "output_type": "stream",
     "text": [
      "max\n",
      "new york\n",
      "max@xyz.com\n"
     ]
    }
   ],
   "source": [
    "for value in mydict.values():\n",
    "    print(value)"
   ]
  },
  {
   "cell_type": "code",
   "execution_count": 39,
   "id": "004cd378",
   "metadata": {
    "execution": {
     "iopub.execute_input": "2022-04-26T12:51:32.245131Z",
     "iopub.status.busy": "2022-04-26T12:51:32.244753Z",
     "iopub.status.idle": "2022-04-26T12:51:32.251399Z",
     "shell.execute_reply": "2022-04-26T12:51:32.250142Z"
    },
    "papermill": {
     "duration": 0.107909,
     "end_time": "2022-04-26T12:51:32.253489",
     "exception": false,
     "start_time": "2022-04-26T12:51:32.145580",
     "status": "completed"
    },
    "tags": []
   },
   "outputs": [
    {
     "name": "stdout",
     "output_type": "stream",
     "text": [
      "name max\n",
      "city new york\n",
      "email max@xyz.com\n"
     ]
    }
   ],
   "source": [
    "for key, value in mydict.items():\n",
    "    print(key, value)"
   ]
  },
  {
   "cell_type": "code",
   "execution_count": 40,
   "id": "4e5f8624",
   "metadata": {
    "execution": {
     "iopub.execute_input": "2022-04-26T12:51:32.443048Z",
     "iopub.status.busy": "2022-04-26T12:51:32.442709Z",
     "iopub.status.idle": "2022-04-26T12:51:32.447933Z",
     "shell.execute_reply": "2022-04-26T12:51:32.447242Z"
    },
    "papermill": {
     "duration": 0.102042,
     "end_time": "2022-04-26T12:51:32.450091",
     "exception": false,
     "start_time": "2022-04-26T12:51:32.348049",
     "status": "completed"
    },
    "tags": []
   },
   "outputs": [
    {
     "name": "stdout",
     "output_type": "stream",
     "text": [
      "{'name': 'mary', 'age': 27, 'email': 'max@xyz.com', 'city': 'boston'}\n"
     ]
    }
   ],
   "source": [
    "my_dict = {\"name\": \"max\", \"age\": 28, \"email\": \"max@xyz.com\"}\n",
    "my_dict2 = dict(name=\"mary\", age=27, city=\"boston\")\n",
    "my_dict.update(my_dict2)\n",
    "print(my_dict)"
   ]
  },
  {
   "cell_type": "code",
   "execution_count": 41,
   "id": "63f4cc5e",
   "metadata": {
    "execution": {
     "iopub.execute_input": "2022-04-26T12:51:32.639356Z",
     "iopub.status.busy": "2022-04-26T12:51:32.639013Z",
     "iopub.status.idle": "2022-04-26T12:51:32.643809Z",
     "shell.execute_reply": "2022-04-26T12:51:32.642840Z"
    },
    "papermill": {
     "duration": 0.101676,
     "end_time": "2022-04-26T12:51:32.645722",
     "exception": false,
     "start_time": "2022-04-26T12:51:32.544046",
     "status": "completed"
    },
    "tags": []
   },
   "outputs": [
    {
     "name": "stdout",
     "output_type": "stream",
     "text": [
      "{(8, 7): 15}\n"
     ]
    }
   ],
   "source": [
    "mytuple = (8, 7)\n",
    "mydict = {mytuple: 15}\n",
    "print(mydict)"
   ]
  },
  {
   "cell_type": "markdown",
   "id": "64d02764",
   "metadata": {
    "papermill": {
     "duration": 0.094079,
     "end_time": "2022-04-26T12:51:32.833849",
     "exception": false,
     "start_time": "2022-04-26T12:51:32.739770",
     "status": "completed"
    },
    "tags": []
   },
   "source": [
    "# Sets\n",
    "* unordered\n",
    "* mutable\n",
    "* no duplicates"
   ]
  },
  {
   "cell_type": "code",
   "execution_count": 42,
   "id": "4f4ee959",
   "metadata": {
    "execution": {
     "iopub.execute_input": "2022-04-26T12:51:33.029825Z",
     "iopub.status.busy": "2022-04-26T12:51:33.029499Z",
     "iopub.status.idle": "2022-04-26T12:51:33.034181Z",
     "shell.execute_reply": "2022-04-26T12:51:33.033314Z"
    },
    "papermill": {
     "duration": 0.104792,
     "end_time": "2022-04-26T12:51:33.036466",
     "exception": false,
     "start_time": "2022-04-26T12:51:32.931674",
     "status": "completed"
    },
    "tags": []
   },
   "outputs": [
    {
     "name": "stdout",
     "output_type": "stream",
     "text": [
      "{1, 2, 3, 4}\n"
     ]
    }
   ],
   "source": [
    "myset = {1,2,3,4,1,2}\n",
    "print(myset)"
   ]
  },
  {
   "cell_type": "code",
   "execution_count": 43,
   "id": "5da65aef",
   "metadata": {
    "execution": {
     "iopub.execute_input": "2022-04-26T12:51:33.228827Z",
     "iopub.status.busy": "2022-04-26T12:51:33.228506Z",
     "iopub.status.idle": "2022-04-26T12:51:33.233362Z",
     "shell.execute_reply": "2022-04-26T12:51:33.232468Z"
    },
    "papermill": {
     "duration": 0.104674,
     "end_time": "2022-04-26T12:51:33.235871",
     "exception": false,
     "start_time": "2022-04-26T12:51:33.131197",
     "status": "completed"
    },
    "tags": []
   },
   "outputs": [
    {
     "name": "stdout",
     "output_type": "stream",
     "text": [
      "{1, 2, 3}\n"
     ]
    }
   ],
   "source": [
    "myset = set([1,2,3])\n",
    "print(myset)"
   ]
  },
  {
   "cell_type": "code",
   "execution_count": 44,
   "id": "a4cb5968",
   "metadata": {
    "execution": {
     "iopub.execute_input": "2022-04-26T12:51:33.430314Z",
     "iopub.status.busy": "2022-04-26T12:51:33.429936Z",
     "iopub.status.idle": "2022-04-26T12:51:33.434873Z",
     "shell.execute_reply": "2022-04-26T12:51:33.434067Z"
    },
    "papermill": {
     "duration": 0.103514,
     "end_time": "2022-04-26T12:51:33.436756",
     "exception": false,
     "start_time": "2022-04-26T12:51:33.333242",
     "status": "completed"
    },
    "tags": []
   },
   "outputs": [
    {
     "name": "stdout",
     "output_type": "stream",
     "text": [
      "{'o', 'e', 'l', 'h'}\n"
     ]
    }
   ],
   "source": [
    "myset = set(\"hello\")\n",
    "print(myset)"
   ]
  },
  {
   "cell_type": "code",
   "execution_count": 45,
   "id": "0a2c817d",
   "metadata": {
    "execution": {
     "iopub.execute_input": "2022-04-26T12:51:33.630361Z",
     "iopub.status.busy": "2022-04-26T12:51:33.629982Z",
     "iopub.status.idle": "2022-04-26T12:51:33.636572Z",
     "shell.execute_reply": "2022-04-26T12:51:33.635073Z"
    },
    "papermill": {
     "duration": 0.105467,
     "end_time": "2022-04-26T12:51:33.638637",
     "exception": false,
     "start_time": "2022-04-26T12:51:33.533170",
     "status": "completed"
    },
    "tags": []
   },
   "outputs": [
    {
     "name": "stdout",
     "output_type": "stream",
     "text": [
      "{1, 2}\n"
     ]
    }
   ],
   "source": [
    "myset = set()\n",
    "myset.add(1)\n",
    "myset.add(2)\n",
    "myset.add(3)\n",
    "myset.remove(3)\n",
    "\n",
    "\n",
    "print(myset)"
   ]
  },
  {
   "cell_type": "code",
   "execution_count": 46,
   "id": "9e781544",
   "metadata": {
    "execution": {
     "iopub.execute_input": "2022-04-26T12:51:33.832708Z",
     "iopub.status.busy": "2022-04-26T12:51:33.832360Z",
     "iopub.status.idle": "2022-04-26T12:51:33.837378Z",
     "shell.execute_reply": "2022-04-26T12:51:33.836720Z"
    },
    "papermill": {
     "duration": 0.103835,
     "end_time": "2022-04-26T12:51:33.839593",
     "exception": false,
     "start_time": "2022-04-26T12:51:33.735758",
     "status": "completed"
    },
    "tags": []
   },
   "outputs": [
    {
     "name": "stdout",
     "output_type": "stream",
     "text": [
      "1\n",
      "2\n"
     ]
    }
   ],
   "source": [
    "for i in myset:\n",
    "    print(i)"
   ]
  },
  {
   "cell_type": "code",
   "execution_count": 47,
   "id": "67d59e55",
   "metadata": {
    "execution": {
     "iopub.execute_input": "2022-04-26T12:51:34.036470Z",
     "iopub.status.busy": "2022-04-26T12:51:34.036071Z",
     "iopub.status.idle": "2022-04-26T12:51:34.041883Z",
     "shell.execute_reply": "2022-04-26T12:51:34.040586Z"
    },
    "papermill": {
     "duration": 0.106323,
     "end_time": "2022-04-26T12:51:34.044142",
     "exception": false,
     "start_time": "2022-04-26T12:51:33.937819",
     "status": "completed"
    },
    "tags": []
   },
   "outputs": [
    {
     "name": "stdout",
     "output_type": "stream",
     "text": [
      "yes\n"
     ]
    }
   ],
   "source": [
    "if 1 in myset:\n",
    "    print(\"yes\")"
   ]
  },
  {
   "cell_type": "code",
   "execution_count": 48,
   "id": "7fd40ed5",
   "metadata": {
    "execution": {
     "iopub.execute_input": "2022-04-26T12:51:34.238366Z",
     "iopub.status.busy": "2022-04-26T12:51:34.237973Z",
     "iopub.status.idle": "2022-04-26T12:51:34.246348Z",
     "shell.execute_reply": "2022-04-26T12:51:34.245038Z"
    },
    "papermill": {
     "duration": 0.10776,
     "end_time": "2022-04-26T12:51:34.248477",
     "exception": false,
     "start_time": "2022-04-26T12:51:34.140717",
     "status": "completed"
    },
    "tags": []
   },
   "outputs": [
    {
     "name": "stdout",
     "output_type": "stream",
     "text": [
      "{0, 1, 2, 3, 4, 5, 6, 7, 8, 9}\n",
      "{3, 5, 7}\n"
     ]
    }
   ],
   "source": [
    "odds = {1,3,5,7,9}\n",
    "evens = {0,2,4,6,8}\n",
    "primes = {2,3,5,7}\n",
    "\n",
    "u = odds.union(evens)\n",
    "print(u)\n",
    "\n",
    "i = odds.intersection(primes)\n",
    "print(i)\n",
    "\n"
   ]
  },
  {
   "cell_type": "code",
   "execution_count": 49,
   "id": "551aad10",
   "metadata": {
    "execution": {
     "iopub.execute_input": "2022-04-26T12:51:34.483380Z",
     "iopub.status.busy": "2022-04-26T12:51:34.482359Z",
     "iopub.status.idle": "2022-04-26T12:51:34.490208Z",
     "shell.execute_reply": "2022-04-26T12:51:34.489286Z"
    },
    "papermill": {
     "duration": 0.125254,
     "end_time": "2022-04-26T12:51:34.493150",
     "exception": false,
     "start_time": "2022-04-26T12:51:34.367896",
     "status": "completed"
    },
    "tags": []
   },
   "outputs": [
    {
     "name": "stdout",
     "output_type": "stream",
     "text": [
      "{10, 11, 12}\n",
      "{4, 5, 6, 7, 8, 9, 10, 11, 12}\n"
     ]
    }
   ],
   "source": [
    "setA = {1,2,3,4,5,6,7,8,9}\n",
    "setB = {1,2,3,10,11,12}\n",
    "\n",
    "diff = setB.difference(setA)\n",
    "print(diff)\n",
    "\n",
    "dif = setB.symmetric_difference(setA)\n",
    "print(dif)"
   ]
  },
  {
   "cell_type": "code",
   "execution_count": 50,
   "id": "889fb9ab",
   "metadata": {
    "execution": {
     "iopub.execute_input": "2022-04-26T12:51:34.694797Z",
     "iopub.status.busy": "2022-04-26T12:51:34.693585Z",
     "iopub.status.idle": "2022-04-26T12:51:34.701433Z",
     "shell.execute_reply": "2022-04-26T12:51:34.700140Z"
    },
    "papermill": {
     "duration": 0.10921,
     "end_time": "2022-04-26T12:51:34.704384",
     "exception": false,
     "start_time": "2022-04-26T12:51:34.595174",
     "status": "completed"
    },
    "tags": []
   },
   "outputs": [
    {
     "name": "stdout",
     "output_type": "stream",
     "text": [
      "True\n",
      "False\n"
     ]
    }
   ],
   "source": [
    "setA = {1,2,3,4,5,6}\n",
    "setB = {1,2,3}\n",
    "\n",
    "print(setB.issubset(setA)) \n",
    "print(setA.issubset(setB)) \n"
   ]
  },
  {
   "cell_type": "code",
   "execution_count": 51,
   "id": "87f5b4af",
   "metadata": {
    "execution": {
     "iopub.execute_input": "2022-04-26T12:51:34.906272Z",
     "iopub.status.busy": "2022-04-26T12:51:34.905674Z",
     "iopub.status.idle": "2022-04-26T12:51:34.911391Z",
     "shell.execute_reply": "2022-04-26T12:51:34.910231Z"
    },
    "papermill": {
     "duration": 0.108859,
     "end_time": "2022-04-26T12:51:34.913584",
     "exception": false,
     "start_time": "2022-04-26T12:51:34.804725",
     "status": "completed"
    },
    "tags": []
   },
   "outputs": [
    {
     "name": "stdout",
     "output_type": "stream",
     "text": [
      "True\n"
     ]
    }
   ],
   "source": [
    "setA = {1,2,3,4,5,6}\n",
    "setB = {1,2,3}\n",
    "setC = {7,8}\n",
    "\n",
    "print(setA.isdisjoint(setC))"
   ]
  },
  {
   "cell_type": "code",
   "execution_count": 52,
   "id": "0858b18c",
   "metadata": {
    "execution": {
     "iopub.execute_input": "2022-04-26T12:51:35.118260Z",
     "iopub.status.busy": "2022-04-26T12:51:35.117628Z",
     "iopub.status.idle": "2022-04-26T12:51:35.123318Z",
     "shell.execute_reply": "2022-04-26T12:51:35.122386Z"
    },
    "papermill": {
     "duration": 0.11209,
     "end_time": "2022-04-26T12:51:35.125692",
     "exception": false,
     "start_time": "2022-04-26T12:51:35.013602",
     "status": "completed"
    },
    "tags": []
   },
   "outputs": [
    {
     "name": "stdout",
     "output_type": "stream",
     "text": [
      "{1, 2, 3, 4, 5, 6}\n"
     ]
    }
   ],
   "source": [
    "setA = {1,2,3,4,5,6}\n",
    "seta = setA.copy()\n",
    "print(seta)"
   ]
  },
  {
   "cell_type": "code",
   "execution_count": 53,
   "id": "287f20fc",
   "metadata": {
    "execution": {
     "iopub.execute_input": "2022-04-26T12:51:35.323708Z",
     "iopub.status.busy": "2022-04-26T12:51:35.323369Z",
     "iopub.status.idle": "2022-04-26T12:51:35.327936Z",
     "shell.execute_reply": "2022-04-26T12:51:35.327207Z"
    },
    "papermill": {
     "duration": 0.107382,
     "end_time": "2022-04-26T12:51:35.330796",
     "exception": false,
     "start_time": "2022-04-26T12:51:35.223414",
     "status": "completed"
    },
    "tags": []
   },
   "outputs": [
    {
     "name": "stdout",
     "output_type": "stream",
     "text": [
      "frozenset({1, 2, 3, 4})\n"
     ]
    }
   ],
   "source": [
    "a = frozenset([1,2,3,4])\n",
    "print(a)\n"
   ]
  },
  {
   "cell_type": "markdown",
   "id": "54566e2c",
   "metadata": {
    "papermill": {
     "duration": 0.097384,
     "end_time": "2022-04-26T12:51:35.527934",
     "exception": false,
     "start_time": "2022-04-26T12:51:35.430550",
     "status": "completed"
    },
    "tags": []
   },
   "source": [
    "# Strings\n",
    "* ordered\n",
    "* immutable\n",
    "* text representation"
   ]
  },
  {
   "cell_type": "code",
   "execution_count": 54,
   "id": "9a213054",
   "metadata": {
    "execution": {
     "iopub.execute_input": "2022-04-26T12:51:35.728840Z",
     "iopub.status.busy": "2022-04-26T12:51:35.727989Z",
     "iopub.status.idle": "2022-04-26T12:51:35.734534Z",
     "shell.execute_reply": "2022-04-26T12:51:35.733679Z"
    },
    "papermill": {
     "duration": 0.109173,
     "end_time": "2022-04-26T12:51:35.737381",
     "exception": false,
     "start_time": "2022-04-26T12:51:35.628208",
     "status": "completed"
    },
    "tags": []
   },
   "outputs": [
    {
     "name": "stdout",
     "output_type": "stream",
     "text": [
      "hello \n",
      "world\n",
      "hello world\n"
     ]
    }
   ],
   "source": [
    "my_string = 'hello world'\n",
    "\n",
    "my_string1 = \"\"\"hello \n",
    "world\"\"\"\n",
    "\n",
    "\n",
    "print(my_string1)\n",
    "print(my_string)"
   ]
  },
  {
   "cell_type": "code",
   "execution_count": 55,
   "id": "48547090",
   "metadata": {
    "execution": {
     "iopub.execute_input": "2022-04-26T12:51:35.944027Z",
     "iopub.status.busy": "2022-04-26T12:51:35.943665Z",
     "iopub.status.idle": "2022-04-26T12:51:35.948290Z",
     "shell.execute_reply": "2022-04-26T12:51:35.947691Z"
    },
    "papermill": {
     "duration": 0.109797,
     "end_time": "2022-04-26T12:51:35.951214",
     "exception": false,
     "start_time": "2022-04-26T12:51:35.841417",
     "status": "completed"
    },
    "tags": []
   },
   "outputs": [
    {
     "name": "stdout",
     "output_type": "stream",
     "text": [
      "h\n",
      "ello\n"
     ]
    }
   ],
   "source": [
    "my_string = 'hello world'\n",
    "char = my_string[0]\n",
    "print(char)\n",
    "\n",
    "substring = my_string[1:5]\n",
    "print(substring)"
   ]
  },
  {
   "cell_type": "code",
   "execution_count": 56,
   "id": "9cc1b5dc",
   "metadata": {
    "execution": {
     "iopub.execute_input": "2022-04-26T12:51:36.151712Z",
     "iopub.status.busy": "2022-04-26T12:51:36.151133Z",
     "iopub.status.idle": "2022-04-26T12:51:36.156036Z",
     "shell.execute_reply": "2022-04-26T12:51:36.154986Z"
    },
    "papermill": {
     "duration": 0.107427,
     "end_time": "2022-04-26T12:51:36.158079",
     "exception": false,
     "start_time": "2022-04-26T12:51:36.050652",
     "status": "completed"
    },
    "tags": []
   },
   "outputs": [
    {
     "name": "stdout",
     "output_type": "stream",
     "text": [
      "hello tom\n"
     ]
    }
   ],
   "source": [
    "greeting = \"hello\"\n",
    "name = \"tom\"\n",
    "sentence = greeting + \" \" + name\n",
    "print(sentence)"
   ]
  },
  {
   "cell_type": "code",
   "execution_count": 57,
   "id": "f20f8cd9",
   "metadata": {
    "execution": {
     "iopub.execute_input": "2022-04-26T12:51:36.363220Z",
     "iopub.status.busy": "2022-04-26T12:51:36.362909Z",
     "iopub.status.idle": "2022-04-26T12:51:36.368305Z",
     "shell.execute_reply": "2022-04-26T12:51:36.367206Z"
    },
    "papermill": {
     "duration": 0.11138,
     "end_time": "2022-04-26T12:51:36.370792",
     "exception": false,
     "start_time": "2022-04-26T12:51:36.259412",
     "status": "completed"
    },
    "tags": []
   },
   "outputs": [
    {
     "name": "stdout",
     "output_type": "stream",
     "text": [
      "yes\n"
     ]
    }
   ],
   "source": [
    "greeting = \"hello\"\n",
    "if 'ell' in greeting:\n",
    "    print('yes')\n",
    "else:\n",
    "    print('no')"
   ]
  },
  {
   "cell_type": "code",
   "execution_count": 58,
   "id": "e3aeea07",
   "metadata": {
    "execution": {
     "iopub.execute_input": "2022-04-26T12:51:36.572236Z",
     "iopub.status.busy": "2022-04-26T12:51:36.571917Z",
     "iopub.status.idle": "2022-04-26T12:51:36.576889Z",
     "shell.execute_reply": "2022-04-26T12:51:36.575893Z"
    },
    "papermill": {
     "duration": 0.108754,
     "end_time": "2022-04-26T12:51:36.579066",
     "exception": false,
     "start_time": "2022-04-26T12:51:36.470312",
     "status": "completed"
    },
    "tags": []
   },
   "outputs": [
    {
     "name": "stdout",
     "output_type": "stream",
     "text": [
      "hello world\n"
     ]
    }
   ],
   "source": [
    "my_string = '   hello world   '\n",
    "my_string = my_string.strip()\n",
    "print(my_string)"
   ]
  },
  {
   "cell_type": "code",
   "execution_count": 59,
   "id": "c8c7c0b2",
   "metadata": {
    "execution": {
     "iopub.execute_input": "2022-04-26T12:51:36.785673Z",
     "iopub.status.busy": "2022-04-26T12:51:36.785351Z",
     "iopub.status.idle": "2022-04-26T12:51:36.790970Z",
     "shell.execute_reply": "2022-04-26T12:51:36.790033Z"
    },
    "papermill": {
     "duration": 0.112027,
     "end_time": "2022-04-26T12:51:36.793267",
     "exception": false,
     "start_time": "2022-04-26T12:51:36.681240",
     "status": "completed"
    },
    "tags": []
   },
   "outputs": [
    {
     "name": "stdout",
     "output_type": "stream",
     "text": [
      "HELLO WORLD\n",
      "3\n",
      "2\n",
      "hello Universe\n"
     ]
    }
   ],
   "source": [
    "my_string = 'hello world'\n",
    "print(my_string.upper())\n",
    "\n",
    "print(my_string.find('lo'))\n",
    "print(my_string.count('o'))\n",
    "print(my_string.replace('world', 'Universe'))\n"
   ]
  },
  {
   "cell_type": "code",
   "execution_count": 60,
   "id": "a377af00",
   "metadata": {
    "execution": {
     "iopub.execute_input": "2022-04-26T12:51:36.995406Z",
     "iopub.status.busy": "2022-04-26T12:51:36.995088Z",
     "iopub.status.idle": "2022-04-26T12:51:37.000347Z",
     "shell.execute_reply": "2022-04-26T12:51:36.999504Z"
    },
    "papermill": {
     "duration": 0.109657,
     "end_time": "2022-04-26T12:51:37.002730",
     "exception": false,
     "start_time": "2022-04-26T12:51:36.893073",
     "status": "completed"
    },
    "tags": []
   },
   "outputs": [
    {
     "name": "stdout",
     "output_type": "stream",
     "text": [
      "['how', ' are', ' you', ' doing']\n",
      "how  are  you  doing\n"
     ]
    }
   ],
   "source": [
    "my_string = 'how, are, you, doing'\n",
    "my_list = my_string.split(\",\")\n",
    "print(my_list)\n",
    "\n",
    "new_string = ' '.join(my_list)\n",
    "print(new_string)"
   ]
  },
  {
   "cell_type": "code",
   "execution_count": 61,
   "id": "9790dfb6",
   "metadata": {
    "execution": {
     "iopub.execute_input": "2022-04-26T12:51:37.206262Z",
     "iopub.status.busy": "2022-04-26T12:51:37.205909Z",
     "iopub.status.idle": "2022-04-26T12:51:37.211149Z",
     "shell.execute_reply": "2022-04-26T12:51:37.210296Z"
    },
    "papermill": {
     "duration": 0.109488,
     "end_time": "2022-04-26T12:51:37.213462",
     "exception": false,
     "start_time": "2022-04-26T12:51:37.103974",
     "status": "completed"
    },
    "tags": []
   },
   "outputs": [
    {
     "name": "stdout",
     "output_type": "stream",
     "text": [
      "['a', 'a', 'a', 'a', 'a', 'a']\n",
      "aaaaaa\n"
     ]
    }
   ],
   "source": [
    "my_list = ['a'] * 6\n",
    "print(my_list)\n",
    "\n",
    "my_string = ''.join(my_list)\n",
    "print(my_string)"
   ]
  },
  {
   "cell_type": "code",
   "execution_count": 62,
   "id": "295d54f2",
   "metadata": {
    "execution": {
     "iopub.execute_input": "2022-04-26T12:51:37.423019Z",
     "iopub.status.busy": "2022-04-26T12:51:37.422714Z",
     "iopub.status.idle": "2022-04-26T12:51:37.427464Z",
     "shell.execute_reply": "2022-04-26T12:51:37.426477Z"
    },
    "papermill": {
     "duration": 0.109757,
     "end_time": "2022-04-26T12:51:37.429772",
     "exception": false,
     "start_time": "2022-04-26T12:51:37.320015",
     "status": "completed"
    },
    "tags": []
   },
   "outputs": [
    {
     "name": "stdout",
     "output_type": "stream",
     "text": [
      "the variabe is Tom\n"
     ]
    }
   ],
   "source": [
    "# %, .format(), f-Strings\n",
    "\n",
    "var = \"Tom\"\n",
    "my_string = \"the variabe is %s\" % var\n",
    "print(my_string)"
   ]
  },
  {
   "cell_type": "code",
   "execution_count": 63,
   "id": "d04df61c",
   "metadata": {
    "execution": {
     "iopub.execute_input": "2022-04-26T12:51:37.635072Z",
     "iopub.status.busy": "2022-04-26T12:51:37.634761Z",
     "iopub.status.idle": "2022-04-26T12:51:37.638794Z",
     "shell.execute_reply": "2022-04-26T12:51:37.638148Z"
    },
    "papermill": {
     "duration": 0.109841,
     "end_time": "2022-04-26T12:51:37.640901",
     "exception": false,
     "start_time": "2022-04-26T12:51:37.531060",
     "status": "completed"
    },
    "tags": []
   },
   "outputs": [
    {
     "name": "stdout",
     "output_type": "stream",
     "text": [
      "the variabe is 3\n"
     ]
    }
   ],
   "source": [
    "var = 3\n",
    "my_string = \"the variabe is %d\" % var\n",
    "print(my_string)"
   ]
  },
  {
   "cell_type": "code",
   "execution_count": 64,
   "id": "1d0234dc",
   "metadata": {
    "execution": {
     "iopub.execute_input": "2022-04-26T12:51:37.851431Z",
     "iopub.status.busy": "2022-04-26T12:51:37.850949Z",
     "iopub.status.idle": "2022-04-26T12:51:37.855508Z",
     "shell.execute_reply": "2022-04-26T12:51:37.854900Z"
    },
    "papermill": {
     "duration": 0.112933,
     "end_time": "2022-04-26T12:51:37.858022",
     "exception": false,
     "start_time": "2022-04-26T12:51:37.745089",
     "status": "completed"
    },
    "tags": []
   },
   "outputs": [
    {
     "name": "stdout",
     "output_type": "stream",
     "text": [
      "the variabe is 3.234234\n"
     ]
    }
   ],
   "source": [
    "var = 3.23423423\n",
    "my_string = \"the variabe is %f\" % var\n",
    "print(my_string)"
   ]
  },
  {
   "cell_type": "code",
   "execution_count": 65,
   "id": "b025a3c6",
   "metadata": {
    "execution": {
     "iopub.execute_input": "2022-04-26T12:51:38.071559Z",
     "iopub.status.busy": "2022-04-26T12:51:38.070681Z",
     "iopub.status.idle": "2022-04-26T12:51:38.076812Z",
     "shell.execute_reply": "2022-04-26T12:51:38.075224Z"
    },
    "papermill": {
     "duration": 0.118041,
     "end_time": "2022-04-26T12:51:38.080491",
     "exception": false,
     "start_time": "2022-04-26T12:51:37.962450",
     "status": "completed"
    },
    "tags": []
   },
   "outputs": [
    {
     "name": "stdout",
     "output_type": "stream",
     "text": [
      "the variabe is 3.234\n"
     ]
    }
   ],
   "source": [
    "var = 3.23423423\n",
    "my_string = \"the variabe is %.3f\" % var\n",
    "print(my_string)"
   ]
  },
  {
   "cell_type": "code",
   "execution_count": 66,
   "id": "78e5d467",
   "metadata": {
    "execution": {
     "iopub.execute_input": "2022-04-26T12:51:38.297920Z",
     "iopub.status.busy": "2022-04-26T12:51:38.297014Z",
     "iopub.status.idle": "2022-04-26T12:51:38.303242Z",
     "shell.execute_reply": "2022-04-26T12:51:38.301773Z"
    },
    "papermill": {
     "duration": 0.115181,
     "end_time": "2022-04-26T12:51:38.305405",
     "exception": false,
     "start_time": "2022-04-26T12:51:38.190224",
     "status": "completed"
    },
    "tags": []
   },
   "outputs": [
    {
     "name": "stdout",
     "output_type": "stream",
     "text": [
      "the variabe is 3.23423423\n"
     ]
    }
   ],
   "source": [
    "var = 3.23423423\n",
    "my_string = \"the variabe is {}\".format(var)\n",
    "print(my_string)"
   ]
  },
  {
   "cell_type": "code",
   "execution_count": 67,
   "id": "17622e42",
   "metadata": {
    "execution": {
     "iopub.execute_input": "2022-04-26T12:51:38.518851Z",
     "iopub.status.busy": "2022-04-26T12:51:38.517780Z",
     "iopub.status.idle": "2022-04-26T12:51:38.523742Z",
     "shell.execute_reply": "2022-04-26T12:51:38.522503Z"
    },
    "papermill": {
     "duration": 0.114427,
     "end_time": "2022-04-26T12:51:38.525682",
     "exception": false,
     "start_time": "2022-04-26T12:51:38.411255",
     "status": "completed"
    },
    "tags": []
   },
   "outputs": [
    {
     "name": "stdout",
     "output_type": "stream",
     "text": [
      "the variabe is 3.23\n"
     ]
    }
   ],
   "source": [
    "var = 3.23423423\n",
    "my_string = \"the variabe is {:.2f}\".format(var)\n",
    "print(my_string)"
   ]
  },
  {
   "cell_type": "code",
   "execution_count": 68,
   "id": "1518c215",
   "metadata": {
    "execution": {
     "iopub.execute_input": "2022-04-26T12:51:38.735517Z",
     "iopub.status.busy": "2022-04-26T12:51:38.735145Z",
     "iopub.status.idle": "2022-04-26T12:51:38.740453Z",
     "shell.execute_reply": "2022-04-26T12:51:38.739550Z"
    },
    "papermill": {
     "duration": 0.111301,
     "end_time": "2022-04-26T12:51:38.743043",
     "exception": false,
     "start_time": "2022-04-26T12:51:38.631742",
     "status": "completed"
    },
    "tags": []
   },
   "outputs": [
    {
     "name": "stdout",
     "output_type": "stream",
     "text": [
      "the variabes are 3.23 and 6\n"
     ]
    }
   ],
   "source": [
    "var = 3.23423423\n",
    "var2 = 6\n",
    "my_string = \"the variabes are {:.2f} and {}\".format(var, var2)\n",
    "print(my_string)"
   ]
  },
  {
   "cell_type": "code",
   "execution_count": 69,
   "id": "122778ef",
   "metadata": {
    "execution": {
     "iopub.execute_input": "2022-04-26T12:51:38.958900Z",
     "iopub.status.busy": "2022-04-26T12:51:38.958320Z",
     "iopub.status.idle": "2022-04-26T12:51:38.963169Z",
     "shell.execute_reply": "2022-04-26T12:51:38.962374Z"
    },
    "papermill": {
     "duration": 0.116319,
     "end_time": "2022-04-26T12:51:38.965299",
     "exception": false,
     "start_time": "2022-04-26T12:51:38.848980",
     "status": "completed"
    },
    "tags": []
   },
   "outputs": [
    {
     "name": "stdout",
     "output_type": "stream",
     "text": [
      "the variabes are 3.23423423 and 12\n"
     ]
    }
   ],
   "source": [
    "# new formatting\n",
    "var = 3.23423423\n",
    "var2 = 6\n",
    "my_string = f\"the variabes are {var} and {var2*2}\"\n",
    "print(my_string)"
   ]
  },
  {
   "cell_type": "markdown",
   "id": "6c91f7af",
   "metadata": {
    "papermill": {
     "duration": 0.102673,
     "end_time": "2022-04-26T12:51:39.170557",
     "exception": false,
     "start_time": "2022-04-26T12:51:39.067884",
     "status": "completed"
    },
    "tags": []
   },
   "source": [
    "# Collections\n",
    "* Counter\n",
    "* namedtuple\n",
    "* OrderedDict\n",
    "* defaultdict\n",
    "* deque"
   ]
  },
  {
   "cell_type": "code",
   "execution_count": 70,
   "id": "cf88a139",
   "metadata": {
    "execution": {
     "iopub.execute_input": "2022-04-26T12:51:39.378068Z",
     "iopub.status.busy": "2022-04-26T12:51:39.377444Z",
     "iopub.status.idle": "2022-04-26T12:51:39.385614Z",
     "shell.execute_reply": "2022-04-26T12:51:39.384290Z"
    },
    "papermill": {
     "duration": 0.114634,
     "end_time": "2022-04-26T12:51:39.387914",
     "exception": false,
     "start_time": "2022-04-26T12:51:39.273280",
     "status": "completed"
    },
    "tags": []
   },
   "outputs": [
    {
     "name": "stdout",
     "output_type": "stream",
     "text": [
      "Counter({'a': 4, 'b': 4, 'c': 3})\n",
      "          \n",
      "dict_items([('a', 4), ('b', 4), ('c', 3)])\n",
      "          \n",
      "dict_keys(['a', 'b', 'c'])\n",
      "          \n",
      "dict_values([4, 4, 3])\n",
      "          \n",
      "[('a', 4)]\n"
     ]
    }
   ],
   "source": [
    "from collections import Counter\n",
    "a = \"aaaabbbbccc\"\n",
    "my_counter = Counter(a)\n",
    "print(my_counter)\n",
    "print(' ' * 10)\n",
    "\n",
    "print(my_counter.items())\n",
    "print(' ' * 10)\n",
    "\n",
    "print(my_counter.keys())\n",
    "print(' ' * 10)\n",
    "\n",
    "print(my_counter.values())\n",
    "print(' ' * 10)\n",
    "print(my_counter.most_common(1))"
   ]
  },
  {
   "cell_type": "code",
   "execution_count": 71,
   "id": "0e84bd4e",
   "metadata": {
    "execution": {
     "iopub.execute_input": "2022-04-26T12:51:39.599868Z",
     "iopub.status.busy": "2022-04-26T12:51:39.599538Z",
     "iopub.status.idle": "2022-04-26T12:51:39.606413Z",
     "shell.execute_reply": "2022-04-26T12:51:39.605441Z"
    },
    "papermill": {
     "duration": 0.114832,
     "end_time": "2022-04-26T12:51:39.608743",
     "exception": false,
     "start_time": "2022-04-26T12:51:39.493911",
     "status": "completed"
    },
    "tags": []
   },
   "outputs": [
    {
     "name": "stdout",
     "output_type": "stream",
     "text": [
      "Counter({'a': 4, 'b': 4, 'c': 3})\n",
      "          \n",
      "[('a', 4)]\n",
      "          \n",
      "('a', 4)\n",
      "          \n",
      "4\n"
     ]
    }
   ],
   "source": [
    "a = \"aaaabbbbccc\"\n",
    "my_counter = Counter(a)\n",
    "print(my_counter)\n",
    "print(' ' * 10)\n",
    "\n",
    "print(my_counter.most_common(1))\n",
    "print(' ' * 10)\n",
    "\n",
    "print(my_counter.most_common(1)[0])\n",
    "print(' ' * 10)\n",
    "\n",
    "print(my_counter.most_common(1)[0][1])\n"
   ]
  },
  {
   "cell_type": "code",
   "execution_count": 72,
   "id": "135a7ca4",
   "metadata": {
    "execution": {
     "iopub.execute_input": "2022-04-26T12:51:39.822415Z",
     "iopub.status.busy": "2022-04-26T12:51:39.822108Z",
     "iopub.status.idle": "2022-04-26T12:51:39.826597Z",
     "shell.execute_reply": "2022-04-26T12:51:39.826023Z"
    },
    "papermill": {
     "duration": 0.113802,
     "end_time": "2022-04-26T12:51:39.828910",
     "exception": false,
     "start_time": "2022-04-26T12:51:39.715108",
     "status": "completed"
    },
    "tags": []
   },
   "outputs": [
    {
     "name": "stdout",
     "output_type": "stream",
     "text": [
      "Counter({'a': 4, 'b': 4, 'c': 3})\n",
      "          \n",
      "['a', 'a', 'a', 'a', 'b', 'b', 'b', 'b', 'c', 'c', 'c']\n"
     ]
    }
   ],
   "source": [
    "a = \"aaaabbbbccc\"\n",
    "my_counter = Counter(a)\n",
    "print(my_counter)\n",
    "print(' ' * 10)\n",
    "\n",
    "print(list(my_counter.elements()))"
   ]
  },
  {
   "cell_type": "code",
   "execution_count": 73,
   "id": "fefe10cd",
   "metadata": {
    "execution": {
     "iopub.execute_input": "2022-04-26T12:51:40.046384Z",
     "iopub.status.busy": "2022-04-26T12:51:40.045978Z",
     "iopub.status.idle": "2022-04-26T12:51:40.052336Z",
     "shell.execute_reply": "2022-04-26T12:51:40.051402Z"
    },
    "papermill": {
     "duration": 0.117764,
     "end_time": "2022-04-26T12:51:40.054485",
     "exception": false,
     "start_time": "2022-04-26T12:51:39.936721",
     "status": "completed"
    },
    "tags": []
   },
   "outputs": [
    {
     "name": "stdout",
     "output_type": "stream",
     "text": [
      "point(x=1, y=-3)\n",
      "          \n",
      "1 -3\n"
     ]
    }
   ],
   "source": [
    "from collections import namedtuple\n",
    "point = namedtuple('point', 'x,y')\n",
    "pt = point(1,-3)\n",
    "print(pt)\n",
    "print(' ' * 10)\n",
    "\n",
    "print(pt.x, pt.y)"
   ]
  },
  {
   "cell_type": "code",
   "execution_count": 74,
   "id": "a9528822",
   "metadata": {
    "execution": {
     "iopub.execute_input": "2022-04-26T12:51:40.267003Z",
     "iopub.status.busy": "2022-04-26T12:51:40.266062Z",
     "iopub.status.idle": "2022-04-26T12:51:40.272056Z",
     "shell.execute_reply": "2022-04-26T12:51:40.271165Z"
    },
    "papermill": {
     "duration": 0.114442,
     "end_time": "2022-04-26T12:51:40.274244",
     "exception": false,
     "start_time": "2022-04-26T12:51:40.159802",
     "status": "completed"
    },
    "tags": []
   },
   "outputs": [
    {
     "name": "stdout",
     "output_type": "stream",
     "text": [
      "OrderedDict([('a', 1), ('b', 2), ('c', 3), ('d', 4)])\n"
     ]
    }
   ],
   "source": [
    "from collections import OrderedDict\n",
    "ordered_dict = OrderedDict()\n",
    "ordered_dict['a'] = 1\n",
    "ordered_dict['b'] = 2\n",
    "ordered_dict['c'] = 3\n",
    "ordered_dict['d'] = 4\n",
    "print(ordered_dict)"
   ]
  },
  {
   "cell_type": "code",
   "execution_count": 75,
   "id": "0a9e397b",
   "metadata": {
    "execution": {
     "iopub.execute_input": "2022-04-26T12:51:40.486465Z",
     "iopub.status.busy": "2022-04-26T12:51:40.486107Z",
     "iopub.status.idle": "2022-04-26T12:51:40.491387Z",
     "shell.execute_reply": "2022-04-26T12:51:40.490689Z"
    },
    "papermill": {
     "duration": 0.115123,
     "end_time": "2022-04-26T12:51:40.493758",
     "exception": false,
     "start_time": "2022-04-26T12:51:40.378635",
     "status": "completed"
    },
    "tags": []
   },
   "outputs": [
    {
     "name": "stdout",
     "output_type": "stream",
     "text": [
      "defaultdict(<class 'int'>, {'a': 1, 'b': 2})\n",
      "2\n"
     ]
    }
   ],
   "source": [
    "from collections import defaultdict\n",
    "d = defaultdict(int)\n",
    "d['a'] = 1\n",
    "d['b'] = 2\n",
    "print(d)\n",
    "print(d['b'])"
   ]
  },
  {
   "cell_type": "code",
   "execution_count": 76,
   "id": "5095fb3d",
   "metadata": {
    "execution": {
     "iopub.execute_input": "2022-04-26T12:51:40.704965Z",
     "iopub.status.busy": "2022-04-26T12:51:40.704626Z",
     "iopub.status.idle": "2022-04-26T12:51:40.711076Z",
     "shell.execute_reply": "2022-04-26T12:51:40.710461Z"
    },
    "papermill": {
     "duration": 0.115588,
     "end_time": "2022-04-26T12:51:40.713782",
     "exception": false,
     "start_time": "2022-04-26T12:51:40.598194",
     "status": "completed"
    },
    "tags": []
   },
   "outputs": [
    {
     "name": "stdout",
     "output_type": "stream",
     "text": [
      "deque([3, 1, 2])\n",
      "deque([3, 1])\n",
      "deque([3, 1, 4, 5, 6])\n",
      "deque([6, 5, 4, 3, 1, 4, 5, 6])\n",
      "deque([6, 6, 5, 4, 3, 1, 4, 5])\n"
     ]
    }
   ],
   "source": [
    "from collections import deque\n",
    "\n",
    "d = deque()\n",
    "\n",
    "d.append(1)\n",
    "d.append(2)\n",
    "\n",
    "d.appendleft(3)\n",
    "print(d)\n",
    "\n",
    "d.pop()\n",
    "print(d)\n",
    "\n",
    "d.extend([4,5,6])\n",
    "print(d)\n",
    "\n",
    "d.extendleft([4,5,6])\n",
    "print(d)\n",
    "\n",
    "d.rotate(1)\n",
    "print(d)\n",
    "#d.clear() # clear all element in a dict"
   ]
  },
  {
   "cell_type": "markdown",
   "id": "60d3e25b",
   "metadata": {
    "papermill": {
     "duration": 0.104662,
     "end_time": "2022-04-26T12:51:40.923697",
     "exception": false,
     "start_time": "2022-04-26T12:51:40.819035",
     "status": "completed"
    },
    "tags": []
   },
   "source": [
    "# Itertools\n",
    "* product\n",
    "* permutations\n",
    "* combinations\n",
    "* accumulate\n",
    "* groupby\n",
    "* infinite iterators"
   ]
  },
  {
   "cell_type": "code",
   "execution_count": 77,
   "id": "99645e0a",
   "metadata": {
    "execution": {
     "iopub.execute_input": "2022-04-26T12:51:41.135586Z",
     "iopub.status.busy": "2022-04-26T12:51:41.135254Z",
     "iopub.status.idle": "2022-04-26T12:51:41.141060Z",
     "shell.execute_reply": "2022-04-26T12:51:41.140068Z"
    },
    "papermill": {
     "duration": 0.115054,
     "end_time": "2022-04-26T12:51:41.143525",
     "exception": false,
     "start_time": "2022-04-26T12:51:41.028471",
     "status": "completed"
    },
    "tags": []
   },
   "outputs": [
    {
     "name": "stdout",
     "output_type": "stream",
     "text": [
      "[(1, 3), (1, 4), (2, 3), (2, 4)]\n"
     ]
    }
   ],
   "source": [
    "from itertools import product\n",
    "a = [1,2]\n",
    "b = [3,4]\n",
    "prod = product(a,b)\n",
    "print(list(prod))"
   ]
  },
  {
   "cell_type": "code",
   "execution_count": 78,
   "id": "864b9423",
   "metadata": {
    "execution": {
     "iopub.execute_input": "2022-04-26T12:51:41.361021Z",
     "iopub.status.busy": "2022-04-26T12:51:41.360692Z",
     "iopub.status.idle": "2022-04-26T12:51:41.365516Z",
     "shell.execute_reply": "2022-04-26T12:51:41.364808Z"
    },
    "papermill": {
     "duration": 0.118231,
     "end_time": "2022-04-26T12:51:41.368040",
     "exception": false,
     "start_time": "2022-04-26T12:51:41.249809",
     "status": "completed"
    },
    "tags": []
   },
   "outputs": [
    {
     "name": "stdout",
     "output_type": "stream",
     "text": [
      "[(1, 3, 1, 3), (1, 3, 2, 3), (2, 3, 1, 3), (2, 3, 2, 3)]\n"
     ]
    }
   ],
   "source": [
    "a = [1,2]\n",
    "b = [3]\n",
    "prod = product(a,b, repeat=2)\n",
    "print(list(prod))"
   ]
  },
  {
   "cell_type": "code",
   "execution_count": 79,
   "id": "217ef638",
   "metadata": {
    "execution": {
     "iopub.execute_input": "2022-04-26T12:51:41.586600Z",
     "iopub.status.busy": "2022-04-26T12:51:41.586184Z",
     "iopub.status.idle": "2022-04-26T12:51:41.591452Z",
     "shell.execute_reply": "2022-04-26T12:51:41.590717Z"
    },
    "papermill": {
     "duration": 0.114938,
     "end_time": "2022-04-26T12:51:41.593848",
     "exception": false,
     "start_time": "2022-04-26T12:51:41.478910",
     "status": "completed"
    },
    "tags": []
   },
   "outputs": [
    {
     "name": "stdout",
     "output_type": "stream",
     "text": [
      "[(1, 2, 3), (1, 3, 2), (2, 1, 3), (2, 3, 1), (3, 1, 2), (3, 2, 1)]\n"
     ]
    }
   ],
   "source": [
    "from itertools import permutations\n",
    "a = [1,2,3]\n",
    "perm = permutations(a)\n",
    "print(list(perm))\n"
   ]
  },
  {
   "cell_type": "code",
   "execution_count": 80,
   "id": "a4080c3e",
   "metadata": {
    "execution": {
     "iopub.execute_input": "2022-04-26T12:51:41.811702Z",
     "iopub.status.busy": "2022-04-26T12:51:41.811400Z",
     "iopub.status.idle": "2022-04-26T12:51:41.816009Z",
     "shell.execute_reply": "2022-04-26T12:51:41.815287Z"
    },
    "papermill": {
     "duration": 0.114549,
     "end_time": "2022-04-26T12:51:41.818248",
     "exception": false,
     "start_time": "2022-04-26T12:51:41.703699",
     "status": "completed"
    },
    "tags": []
   },
   "outputs": [
    {
     "name": "stdout",
     "output_type": "stream",
     "text": [
      "[(1, 2), (1, 3), (2, 1), (2, 3), (3, 1), (3, 2)]\n"
     ]
    }
   ],
   "source": [
    "a = [1,2,3]\n",
    "perm = permutations(a, 2)\n",
    "print(list(perm))\n"
   ]
  },
  {
   "cell_type": "code",
   "execution_count": 81,
   "id": "33237e32",
   "metadata": {
    "execution": {
     "iopub.execute_input": "2022-04-26T12:51:42.037493Z",
     "iopub.status.busy": "2022-04-26T12:51:42.037175Z",
     "iopub.status.idle": "2022-04-26T12:51:42.041797Z",
     "shell.execute_reply": "2022-04-26T12:51:42.041182Z"
    },
    "papermill": {
     "duration": 0.116446,
     "end_time": "2022-04-26T12:51:42.043824",
     "exception": false,
     "start_time": "2022-04-26T12:51:41.927378",
     "status": "completed"
    },
    "tags": []
   },
   "outputs": [
    {
     "name": "stdout",
     "output_type": "stream",
     "text": [
      "[(1, 2, 3), (1, 2, 4), (1, 3, 4), (2, 3, 4)]\n"
     ]
    }
   ],
   "source": [
    "from itertools import combinations\n",
    "a = [1,2,3,4]\n",
    "comb = combinations(a, 3)\n",
    "print(list(comb))\n"
   ]
  },
  {
   "cell_type": "code",
   "execution_count": 82,
   "id": "292c1a55",
   "metadata": {
    "execution": {
     "iopub.execute_input": "2022-04-26T12:51:42.261690Z",
     "iopub.status.busy": "2022-04-26T12:51:42.261386Z",
     "iopub.status.idle": "2022-04-26T12:51:42.266130Z",
     "shell.execute_reply": "2022-04-26T12:51:42.265514Z"
    },
    "papermill": {
     "duration": 0.11686,
     "end_time": "2022-04-26T12:51:42.267941",
     "exception": false,
     "start_time": "2022-04-26T12:51:42.151081",
     "status": "completed"
    },
    "tags": []
   },
   "outputs": [
    {
     "name": "stdout",
     "output_type": "stream",
     "text": [
      "[1, 2, 3, 4]\n",
      "[1, 3, 6, 10]\n"
     ]
    }
   ],
   "source": [
    "from itertools import accumulate\n",
    "a = [1,2,3,4]\n",
    "acc = accumulate(a)\n",
    "print(a)\n",
    "\n",
    "print(list(acc))"
   ]
  },
  {
   "cell_type": "code",
   "execution_count": 83,
   "id": "53d300c7",
   "metadata": {
    "execution": {
     "iopub.execute_input": "2022-04-26T12:51:42.484499Z",
     "iopub.status.busy": "2022-04-26T12:51:42.483885Z",
     "iopub.status.idle": "2022-04-26T12:51:42.489020Z",
     "shell.execute_reply": "2022-04-26T12:51:42.488459Z"
    },
    "papermill": {
     "duration": 0.116397,
     "end_time": "2022-04-26T12:51:42.490869",
     "exception": false,
     "start_time": "2022-04-26T12:51:42.374472",
     "status": "completed"
    },
    "tags": []
   },
   "outputs": [
    {
     "name": "stdout",
     "output_type": "stream",
     "text": [
      "[1, 2, 3, 4]\n",
      "[1, 2, 6, 24]\n"
     ]
    }
   ],
   "source": [
    "from itertools import accumulate\n",
    "import operator\n",
    "\n",
    "a = [1,2,3,4]\n",
    "acc = accumulate(a, func=operator.mul)\n",
    "print(a)\n",
    "\n",
    "print(list(acc))\n"
   ]
  },
  {
   "cell_type": "code",
   "execution_count": 84,
   "id": "0a4246b3",
   "metadata": {
    "execution": {
     "iopub.execute_input": "2022-04-26T12:51:42.707161Z",
     "iopub.status.busy": "2022-04-26T12:51:42.706469Z",
     "iopub.status.idle": "2022-04-26T12:51:42.712677Z",
     "shell.execute_reply": "2022-04-26T12:51:42.711504Z"
    },
    "papermill": {
     "duration": 0.118687,
     "end_time": "2022-04-26T12:51:42.716112",
     "exception": false,
     "start_time": "2022-04-26T12:51:42.597425",
     "status": "completed"
    },
    "tags": []
   },
   "outputs": [
    {
     "name": "stdout",
     "output_type": "stream",
     "text": [
      "[1, 2, 5, 3, 4]\n",
      "[1, 2, 5, 5, 5]\n"
     ]
    }
   ],
   "source": [
    "from itertools import accumulate\n",
    "import operator\n",
    "\n",
    "a = [1,2,5,3,4]\n",
    "acc = accumulate(a, func=max)\n",
    "print(a)\n",
    "\n",
    "print(list(acc))"
   ]
  },
  {
   "cell_type": "code",
   "execution_count": 85,
   "id": "8cf30464",
   "metadata": {
    "execution": {
     "iopub.execute_input": "2022-04-26T12:51:42.935267Z",
     "iopub.status.busy": "2022-04-26T12:51:42.934641Z",
     "iopub.status.idle": "2022-04-26T12:51:42.940553Z",
     "shell.execute_reply": "2022-04-26T12:51:42.939981Z"
    },
    "papermill": {
     "duration": 0.117024,
     "end_time": "2022-04-26T12:51:42.942480",
     "exception": false,
     "start_time": "2022-04-26T12:51:42.825456",
     "status": "completed"
    },
    "tags": []
   },
   "outputs": [
    {
     "name": "stdout",
     "output_type": "stream",
     "text": [
      "True [1, 2]\n",
      "False [3, 4]\n"
     ]
    }
   ],
   "source": [
    "from itertools import groupby\n",
    "def smaller_than_3(x):\n",
    "    return x < 3\n",
    "\n",
    "\n",
    "a = [1,2,3,4]\n",
    "\n",
    "group_obj = groupby(a, key=smaller_than_3)\n",
    "\n",
    "\n",
    "for key, value in group_obj:\n",
    "    print(key, list(value))"
   ]
  },
  {
   "cell_type": "code",
   "execution_count": 86,
   "id": "967431f1",
   "metadata": {
    "execution": {
     "iopub.execute_input": "2022-04-26T12:51:43.162308Z",
     "iopub.status.busy": "2022-04-26T12:51:43.161666Z",
     "iopub.status.idle": "2022-04-26T12:51:43.167939Z",
     "shell.execute_reply": "2022-04-26T12:51:43.166846Z"
    },
    "papermill": {
     "duration": 0.119243,
     "end_time": "2022-04-26T12:51:43.170055",
     "exception": false,
     "start_time": "2022-04-26T12:51:43.050812",
     "status": "completed"
    },
    "tags": []
   },
   "outputs": [
    {
     "name": "stdout",
     "output_type": "stream",
     "text": [
      "True [1, 2]\n",
      "False [3, 4]\n"
     ]
    }
   ],
   "source": [
    "from itertools import groupby\n",
    "\n",
    "\n",
    "a = [1,2,3,4]\n",
    "\n",
    "group_obj = groupby(a, key=lambda x: x<3)\n",
    "\n",
    "\n",
    "for key, value in group_obj:\n",
    "    print(key, list(value))"
   ]
  },
  {
   "cell_type": "code",
   "execution_count": 87,
   "id": "628eca7f",
   "metadata": {
    "execution": {
     "iopub.execute_input": "2022-04-26T12:51:43.388935Z",
     "iopub.status.busy": "2022-04-26T12:51:43.388302Z",
     "iopub.status.idle": "2022-04-26T12:51:43.395671Z",
     "shell.execute_reply": "2022-04-26T12:51:43.395043Z"
    },
    "papermill": {
     "duration": 0.119364,
     "end_time": "2022-04-26T12:51:43.398250",
     "exception": false,
     "start_time": "2022-04-26T12:51:43.278886",
     "status": "completed"
    },
    "tags": []
   },
   "outputs": [
    {
     "name": "stdout",
     "output_type": "stream",
     "text": [
      "25 [{'name': 'tim', 'age': 25}]\n",
      "29 [{'name': 'dan', 'age': 29}]\n",
      "27 [{'name': 'lisa', 'age': 27}]\n",
      "28 [{'name': 'clarie', 'age': 28}]\n"
     ]
    }
   ],
   "source": [
    "from itertools import groupby\n",
    "\n",
    "persons = [{'name': 'tim', 'age': 25}, {'name': 'dan', 'age': 29},\n",
    "          {'name': 'lisa', 'age': 27}, {'name': 'clarie', 'age': 28}]\n",
    "\n",
    "group_obj = groupby(persons, key=lambda x: x['age'])\n",
    "for key, value in group_obj:\n",
    "    print(key, list(value))"
   ]
  },
  {
   "cell_type": "code",
   "execution_count": 88,
   "id": "e3d6dba0",
   "metadata": {
    "execution": {
     "iopub.execute_input": "2022-04-26T12:51:43.620361Z",
     "iopub.status.busy": "2022-04-26T12:51:43.619730Z",
     "iopub.status.idle": "2022-04-26T12:51:43.625932Z",
     "shell.execute_reply": "2022-04-26T12:51:43.625050Z"
    },
    "papermill": {
     "duration": 0.120679,
     "end_time": "2022-04-26T12:51:43.629007",
     "exception": false,
     "start_time": "2022-04-26T12:51:43.508328",
     "status": "completed"
    },
    "tags": []
   },
   "outputs": [
    {
     "name": "stdout",
     "output_type": "stream",
     "text": [
      "10\n",
      "11\n",
      "12\n",
      "13\n",
      "14\n",
      "15\n",
      "16\n",
      "17\n",
      "18\n",
      "19\n",
      "20\n"
     ]
    }
   ],
   "source": [
    "from itertools import count, cycle, repeat\n",
    "\n",
    "for i in count(10):\n",
    "    print(i)\n",
    "    if i == 20:\n",
    "        break\n",
    "    "
   ]
  },
  {
   "cell_type": "code",
   "execution_count": 89,
   "id": "6950472c",
   "metadata": {
    "execution": {
     "iopub.execute_input": "2022-04-26T12:51:43.848481Z",
     "iopub.status.busy": "2022-04-26T12:51:43.847811Z",
     "iopub.status.idle": "2022-04-26T12:51:43.855148Z",
     "shell.execute_reply": "2022-04-26T12:51:43.853539Z"
    },
    "papermill": {
     "duration": 0.118587,
     "end_time": "2022-04-26T12:51:43.857134",
     "exception": false,
     "start_time": "2022-04-26T12:51:43.738547",
     "status": "completed"
    },
    "tags": []
   },
   "outputs": [
    {
     "name": "stdout",
     "output_type": "stream",
     "text": [
      "1\n",
      "1\n",
      "1\n",
      "1\n",
      "1\n",
      "1\n",
      "1\n",
      "1\n",
      "1\n",
      "1\n"
     ]
    }
   ],
   "source": [
    "from itertools import count, cycle, repeat\n",
    "\n",
    "a = [1,2,3,4,5]\n",
    "\n",
    "for i in repeat(1, 10):\n",
    "    print(i)\n",
    "    "
   ]
  },
  {
   "cell_type": "markdown",
   "id": "76964d1b",
   "metadata": {
    "papermill": {
     "duration": 0.108116,
     "end_time": "2022-04-26T12:51:44.073814",
     "exception": false,
     "start_time": "2022-04-26T12:51:43.965698",
     "status": "completed"
    },
    "tags": []
   },
   "source": [
    "# Lambda Function\n",
    "\n",
    "* argument, expression"
   ]
  },
  {
   "cell_type": "code",
   "execution_count": 90,
   "id": "e5942f78",
   "metadata": {
    "execution": {
     "iopub.execute_input": "2022-04-26T12:51:44.302084Z",
     "iopub.status.busy": "2022-04-26T12:51:44.301385Z",
     "iopub.status.idle": "2022-04-26T12:51:44.307802Z",
     "shell.execute_reply": "2022-04-26T12:51:44.306603Z"
    },
    "papermill": {
     "duration": 0.123922,
     "end_time": "2022-04-26T12:51:44.309979",
     "exception": false,
     "start_time": "2022-04-26T12:51:44.186057",
     "status": "completed"
    },
    "tags": []
   },
   "outputs": [
    {
     "name": "stdout",
     "output_type": "stream",
     "text": [
      "20\n"
     ]
    }
   ],
   "source": [
    "add10 = lambda x: x + 10\n",
    "\n",
    "print(add10(10))"
   ]
  },
  {
   "cell_type": "code",
   "execution_count": 91,
   "id": "5b6454d2",
   "metadata": {
    "execution": {
     "iopub.execute_input": "2022-04-26T12:51:44.535568Z",
     "iopub.status.busy": "2022-04-26T12:51:44.534830Z",
     "iopub.status.idle": "2022-04-26T12:51:44.540170Z",
     "shell.execute_reply": "2022-04-26T12:51:44.539347Z"
    },
    "papermill": {
     "duration": 0.121162,
     "end_time": "2022-04-26T12:51:44.542942",
     "exception": false,
     "start_time": "2022-04-26T12:51:44.421780",
     "status": "completed"
    },
    "tags": []
   },
   "outputs": [
    {
     "name": "stdout",
     "output_type": "stream",
     "text": [
      "20\n"
     ]
    }
   ],
   "source": [
    "def add10_func(x):\n",
    "    return x + 10\n",
    "\n",
    "print(add10_func(10))"
   ]
  },
  {
   "cell_type": "code",
   "execution_count": 92,
   "id": "28505418",
   "metadata": {
    "execution": {
     "iopub.execute_input": "2022-04-26T12:51:44.766548Z",
     "iopub.status.busy": "2022-04-26T12:51:44.765584Z",
     "iopub.status.idle": "2022-04-26T12:51:44.770351Z",
     "shell.execute_reply": "2022-04-26T12:51:44.769743Z"
    },
    "papermill": {
     "duration": 0.117715,
     "end_time": "2022-04-26T12:51:44.772545",
     "exception": false,
     "start_time": "2022-04-26T12:51:44.654830",
     "status": "completed"
    },
    "tags": []
   },
   "outputs": [
    {
     "name": "stdout",
     "output_type": "stream",
     "text": [
      "70\n"
     ]
    }
   ],
   "source": [
    "mult = lambda x,y: x*y\n",
    "print(mult(10,7))"
   ]
  },
  {
   "cell_type": "code",
   "execution_count": 93,
   "id": "b9f303f9",
   "metadata": {
    "execution": {
     "iopub.execute_input": "2022-04-26T12:51:44.999719Z",
     "iopub.status.busy": "2022-04-26T12:51:44.998836Z",
     "iopub.status.idle": "2022-04-26T12:51:45.006460Z",
     "shell.execute_reply": "2022-04-26T12:51:45.005040Z"
    },
    "papermill": {
     "duration": 0.125929,
     "end_time": "2022-04-26T12:51:45.009644",
     "exception": false,
     "start_time": "2022-04-26T12:51:44.883715",
     "status": "completed"
    },
    "tags": []
   },
   "outputs": [
    {
     "name": "stdout",
     "output_type": "stream",
     "text": [
      "[(1, 2), (15, 1), (5, -1), (10, 4)]\n",
      "[(1, 2), (5, -1), (10, 4), (15, 1)]\n",
      "[(5, -1), (15, 1), (1, 2), (10, 4)]\n"
     ]
    }
   ],
   "source": [
    "points2D = [(1,2),(15,1), (5,-1),(10,4)]\n",
    "points2D_sorted = sorted(points2D)\n",
    "points2D_sorted_key = sorted(points2D, key=lambda x: x[1])\n",
    "\n",
    "print(points2D)\n",
    "print(points2D_sorted)\n",
    "print(points2D_sorted_key)"
   ]
  },
  {
   "cell_type": "code",
   "execution_count": 94,
   "id": "2d908401",
   "metadata": {
    "execution": {
     "iopub.execute_input": "2022-04-26T12:51:45.235996Z",
     "iopub.status.busy": "2022-04-26T12:51:45.234754Z",
     "iopub.status.idle": "2022-04-26T12:51:45.241967Z",
     "shell.execute_reply": "2022-04-26T12:51:45.240871Z"
    },
    "papermill": {
     "duration": 0.12152,
     "end_time": "2022-04-26T12:51:45.244248",
     "exception": false,
     "start_time": "2022-04-26T12:51:45.122728",
     "status": "completed"
    },
    "tags": []
   },
   "outputs": [
    {
     "name": "stdout",
     "output_type": "stream",
     "text": [
      "[(1, 2), (15, 1), (5, -1), (10, 4)]\n",
      "[(1, 2), (5, -1), (10, 4), (15, 1)]\n"
     ]
    }
   ],
   "source": [
    "points2D = [(1,2),(15,1), (5,-1),(10,4)]\n",
    "points2D_sorted_key = sorted(points2D, key=lambda x: x[0] + x[1])\n",
    "\n",
    "print(points2D)\n",
    "print(points2D_sorted_key)"
   ]
  },
  {
   "cell_type": "code",
   "execution_count": 95,
   "id": "fbe49837",
   "metadata": {
    "execution": {
     "iopub.execute_input": "2022-04-26T12:51:45.504413Z",
     "iopub.status.busy": "2022-04-26T12:51:45.503242Z",
     "iopub.status.idle": "2022-04-26T12:51:45.509307Z",
     "shell.execute_reply": "2022-04-26T12:51:45.508489Z"
    },
    "papermill": {
     "duration": 0.133688,
     "end_time": "2022-04-26T12:51:45.511723",
     "exception": false,
     "start_time": "2022-04-26T12:51:45.378035",
     "status": "completed"
    },
    "tags": []
   },
   "outputs": [
    {
     "name": "stdout",
     "output_type": "stream",
     "text": [
      "[(1, 2), (15, 1), (5, -1), (10, 4)]\n"
     ]
    }
   ],
   "source": [
    "points2D = [(1,2),(15,1), (5,-1),(10,4)]\n",
    "\n",
    "def sort_by_y(x):\n",
    "    return x[1]\n",
    "\n",
    "points2D_sorted = sorted(points2D, key=sort_by_y)\n",
    "\n",
    "print(points2D)"
   ]
  },
  {
   "cell_type": "markdown",
   "id": "85db8b6e",
   "metadata": {
    "papermill": {
     "duration": 0.114474,
     "end_time": "2022-04-26T12:51:45.737818",
     "exception": false,
     "start_time": "2022-04-26T12:51:45.623344",
     "status": "completed"
    },
    "tags": []
   },
   "source": [
    "**map function**\n",
    "* map(func, seq)"
   ]
  },
  {
   "cell_type": "code",
   "execution_count": 96,
   "id": "5874dcc4",
   "metadata": {
    "execution": {
     "iopub.execute_input": "2022-04-26T12:51:45.961613Z",
     "iopub.status.busy": "2022-04-26T12:51:45.960756Z",
     "iopub.status.idle": "2022-04-26T12:51:45.966860Z",
     "shell.execute_reply": "2022-04-26T12:51:45.966272Z"
    },
    "papermill": {
     "duration": 0.121601,
     "end_time": "2022-04-26T12:51:45.969846",
     "exception": false,
     "start_time": "2022-04-26T12:51:45.848245",
     "status": "completed"
    },
    "tags": []
   },
   "outputs": [
    {
     "name": "stdout",
     "output_type": "stream",
     "text": [
      "[2, 4, 6, 8, 10]\n",
      "\n",
      "list_comprehension\n",
      "[2, 4, 6, 8, 10]\n"
     ]
    }
   ],
   "source": [
    "a = [1,2,3,4,5]\n",
    "b = map(lambda x: x*2, a)\n",
    "print(list(b)) \n",
    "print(\"\"*10)\n",
    "\n",
    "print(\"list_comprehension\")\n",
    "c = [x*2 for x in a] \n",
    "print(c)"
   ]
  },
  {
   "cell_type": "code",
   "execution_count": 97,
   "id": "3bfc5b16",
   "metadata": {
    "execution": {
     "iopub.execute_input": "2022-04-26T12:51:46.197720Z",
     "iopub.status.busy": "2022-04-26T12:51:46.197082Z",
     "iopub.status.idle": "2022-04-26T12:51:46.202983Z",
     "shell.execute_reply": "2022-04-26T12:51:46.202445Z"
    },
    "papermill": {
     "duration": 0.122713,
     "end_time": "2022-04-26T12:51:46.205580",
     "exception": false,
     "start_time": "2022-04-26T12:51:46.082867",
     "status": "completed"
    },
    "tags": []
   },
   "outputs": [
    {
     "name": "stdout",
     "output_type": "stream",
     "text": [
      "[2, 4, 6]\n",
      "\n",
      "list_comprehension\n",
      "[2, 4, 6]\n"
     ]
    }
   ],
   "source": [
    "# filter(func, seq) # return true or false\n",
    "a = [1,2,3,4,5,6]\n",
    "b = filter(lambda x: x%2==0, a)\n",
    "print(list(b))\n",
    "\n",
    "print(\"\"*10)\n",
    "\n",
    "print(\"list_comprehension\")\n",
    "c = [x for x in a if x%2==0]\n",
    "print(c)"
   ]
  },
  {
   "cell_type": "code",
   "execution_count": 98,
   "id": "8e320798",
   "metadata": {
    "execution": {
     "iopub.execute_input": "2022-04-26T12:51:46.434711Z",
     "iopub.status.busy": "2022-04-26T12:51:46.433919Z",
     "iopub.status.idle": "2022-04-26T12:51:46.439210Z",
     "shell.execute_reply": "2022-04-26T12:51:46.438501Z"
    },
    "papermill": {
     "duration": 0.12112,
     "end_time": "2022-04-26T12:51:46.440889",
     "exception": false,
     "start_time": "2022-04-26T12:51:46.319769",
     "status": "completed"
    },
    "tags": []
   },
   "outputs": [
    {
     "name": "stdout",
     "output_type": "stream",
     "text": [
      "6\n"
     ]
    }
   ],
   "source": [
    "# reduce(func, seq) # return single value\n",
    "from functools import reduce\n",
    "a = [1,2,3]\n",
    "\n",
    "product_a = reduce(lambda x,y: x*y, a)\n",
    "print(product_a)"
   ]
  },
  {
   "cell_type": "markdown",
   "id": "35b738f9",
   "metadata": {
    "papermill": {
     "duration": 0.112012,
     "end_time": "2022-04-26T12:51:46.664460",
     "exception": false,
     "start_time": "2022-04-26T12:51:46.552448",
     "status": "completed"
    },
    "tags": []
   },
   "source": [
    "# Error and Exceptions\n"
   ]
  },
  {
   "cell_type": "code",
   "execution_count": 99,
   "id": "ee8b6fbb",
   "metadata": {
    "execution": {
     "iopub.execute_input": "2022-04-26T12:51:46.889893Z",
     "iopub.status.busy": "2022-04-26T12:51:46.889183Z",
     "iopub.status.idle": "2022-04-26T12:51:46.893029Z",
     "shell.execute_reply": "2022-04-26T12:51:46.892435Z"
    },
    "papermill": {
     "duration": 0.119399,
     "end_time": "2022-04-26T12:51:46.894827",
     "exception": false,
     "start_time": "2022-04-26T12:51:46.775428",
     "status": "completed"
    },
    "tags": []
   },
   "outputs": [],
   "source": [
    "# syntax error\n",
    "# a = 5 print(a)"
   ]
  },
  {
   "cell_type": "code",
   "execution_count": 100,
   "id": "9f9667a5",
   "metadata": {
    "execution": {
     "iopub.execute_input": "2022-04-26T12:51:47.119607Z",
     "iopub.status.busy": "2022-04-26T12:51:47.118960Z",
     "iopub.status.idle": "2022-04-26T12:51:47.123019Z",
     "shell.execute_reply": "2022-04-26T12:51:47.122284Z"
    },
    "papermill": {
     "duration": 0.118655,
     "end_time": "2022-04-26T12:51:47.125005",
     "exception": false,
     "start_time": "2022-04-26T12:51:47.006350",
     "status": "completed"
    },
    "tags": []
   },
   "outputs": [],
   "source": [
    "# type error\n",
    "# a = 5 + '10'"
   ]
  },
  {
   "cell_type": "code",
   "execution_count": 101,
   "id": "736657a0",
   "metadata": {
    "execution": {
     "iopub.execute_input": "2022-04-26T12:51:47.351406Z",
     "iopub.status.busy": "2022-04-26T12:51:47.351038Z",
     "iopub.status.idle": "2022-04-26T12:51:47.354162Z",
     "shell.execute_reply": "2022-04-26T12:51:47.353481Z"
    },
    "papermill": {
     "duration": 0.117714,
     "end_time": "2022-04-26T12:51:47.355913",
     "exception": false,
     "start_time": "2022-04-26T12:51:47.238199",
     "status": "completed"
    },
    "tags": []
   },
   "outputs": [],
   "source": [
    "# modulenotfound error\n",
    "# import thismodule"
   ]
  },
  {
   "cell_type": "code",
   "execution_count": 102,
   "id": "9be804a5",
   "metadata": {
    "execution": {
     "iopub.execute_input": "2022-04-26T12:51:47.579248Z",
     "iopub.status.busy": "2022-04-26T12:51:47.578894Z",
     "iopub.status.idle": "2022-04-26T12:51:47.582769Z",
     "shell.execute_reply": "2022-04-26T12:51:47.581877Z"
    },
    "papermill": {
     "duration": 0.11841,
     "end_time": "2022-04-26T12:51:47.584695",
     "exception": false,
     "start_time": "2022-04-26T12:51:47.466285",
     "status": "completed"
    },
    "tags": []
   },
   "outputs": [],
   "source": [
    "# value error\n",
    "# a = [1,2,3]\n",
    "# a.remove(4)\n",
    "# print(a)"
   ]
  },
  {
   "cell_type": "code",
   "execution_count": 103,
   "id": "ff55a9c5",
   "metadata": {
    "execution": {
     "iopub.execute_input": "2022-04-26T12:51:47.808772Z",
     "iopub.status.busy": "2022-04-26T12:51:47.808433Z",
     "iopub.status.idle": "2022-04-26T12:51:47.811980Z",
     "shell.execute_reply": "2022-04-26T12:51:47.811340Z"
    },
    "papermill": {
     "duration": 0.117405,
     "end_time": "2022-04-26T12:51:47.813684",
     "exception": false,
     "start_time": "2022-04-26T12:51:47.696279",
     "status": "completed"
    },
    "tags": []
   },
   "outputs": [],
   "source": [
    "# index error\n",
    "# a = [1,2,3]\n",
    "# a[4]\n",
    "# print(a)"
   ]
  },
  {
   "cell_type": "code",
   "execution_count": 104,
   "id": "21b6e2b3",
   "metadata": {
    "execution": {
     "iopub.execute_input": "2022-04-26T12:51:48.042276Z",
     "iopub.status.busy": "2022-04-26T12:51:48.041669Z",
     "iopub.status.idle": "2022-04-26T12:51:48.046073Z",
     "shell.execute_reply": "2022-04-26T12:51:48.045160Z"
    },
    "papermill": {
     "duration": 0.123034,
     "end_time": "2022-04-26T12:51:48.048173",
     "exception": false,
     "start_time": "2022-04-26T12:51:47.925139",
     "status": "completed"
    },
    "tags": []
   },
   "outputs": [],
   "source": [
    "# key error\n",
    "# my_dict = {'name': 'max'}\n",
    "# my_dict['age']"
   ]
  },
  {
   "cell_type": "code",
   "execution_count": 105,
   "id": "426b92ef",
   "metadata": {
    "execution": {
     "iopub.execute_input": "2022-04-26T12:51:48.275604Z",
     "iopub.status.busy": "2022-04-26T12:51:48.275209Z",
     "iopub.status.idle": "2022-04-26T12:51:48.279749Z",
     "shell.execute_reply": "2022-04-26T12:51:48.278738Z"
    },
    "papermill": {
     "duration": 0.119468,
     "end_time": "2022-04-26T12:51:48.281873",
     "exception": false,
     "start_time": "2022-04-26T12:51:48.162405",
     "status": "completed"
    },
    "tags": []
   },
   "outputs": [],
   "source": [
    "x = 5 # change 5 with -5\n",
    "if x < 0:\n",
    "    raise Exception('x should be positive')"
   ]
  },
  {
   "cell_type": "code",
   "execution_count": 106,
   "id": "3aad3315",
   "metadata": {
    "execution": {
     "iopub.execute_input": "2022-04-26T12:51:48.509970Z",
     "iopub.status.busy": "2022-04-26T12:51:48.509615Z",
     "iopub.status.idle": "2022-04-26T12:51:48.515038Z",
     "shell.execute_reply": "2022-04-26T12:51:48.513932Z"
    },
    "papermill": {
     "duration": 0.123561,
     "end_time": "2022-04-26T12:51:48.517532",
     "exception": false,
     "start_time": "2022-04-26T12:51:48.393971",
     "status": "completed"
    },
    "tags": []
   },
   "outputs": [
    {
     "name": "stdout",
     "output_type": "stream",
     "text": [
      "an error happened\n"
     ]
    }
   ],
   "source": [
    "try:\n",
    "    a = 4 / 0\n",
    "except:\n",
    "    print('an error happened')"
   ]
  },
  {
   "cell_type": "code",
   "execution_count": 107,
   "id": "63cb9987",
   "metadata": {
    "execution": {
     "iopub.execute_input": "2022-04-26T12:51:48.744089Z",
     "iopub.status.busy": "2022-04-26T12:51:48.743482Z",
     "iopub.status.idle": "2022-04-26T12:51:48.748604Z",
     "shell.execute_reply": "2022-04-26T12:51:48.747518Z"
    },
    "papermill": {
     "duration": 0.122169,
     "end_time": "2022-04-26T12:51:48.751035",
     "exception": false,
     "start_time": "2022-04-26T12:51:48.628866",
     "status": "completed"
    },
    "tags": []
   },
   "outputs": [
    {
     "name": "stdout",
     "output_type": "stream",
     "text": [
      "division by zero\n"
     ]
    }
   ],
   "source": [
    "try:\n",
    "    a = 4 / 0\n",
    "except Exception as e:\n",
    "    print(e)"
   ]
  },
  {
   "cell_type": "code",
   "execution_count": 108,
   "id": "77fbcaab",
   "metadata": {
    "execution": {
     "iopub.execute_input": "2022-04-26T12:51:48.981947Z",
     "iopub.status.busy": "2022-04-26T12:51:48.981388Z",
     "iopub.status.idle": "2022-04-26T12:51:48.986702Z",
     "shell.execute_reply": "2022-04-26T12:51:48.985694Z"
    },
    "papermill": {
     "duration": 0.125528,
     "end_time": "2022-04-26T12:51:48.989224",
     "exception": false,
     "start_time": "2022-04-26T12:51:48.863696",
     "status": "completed"
    },
    "tags": []
   },
   "outputs": [
    {
     "name": "stdout",
     "output_type": "stream",
     "text": [
      "unsupported operand type(s) for +: 'float' and 'str'\n"
     ]
    }
   ],
   "source": [
    "try:\n",
    "    a = 5 / 1\n",
    "    b = a + '10'\n",
    "except ZeroDivisionError as e:\n",
    "    print(e)\n",
    "except TypeError as e:\n",
    "    print(e)"
   ]
  },
  {
   "cell_type": "code",
   "execution_count": 109,
   "id": "a6081070",
   "metadata": {
    "execution": {
     "iopub.execute_input": "2022-04-26T12:51:49.218143Z",
     "iopub.status.busy": "2022-04-26T12:51:49.217787Z",
     "iopub.status.idle": "2022-04-26T12:51:49.222944Z",
     "shell.execute_reply": "2022-04-26T12:51:49.222388Z"
    },
    "papermill": {
     "duration": 0.122595,
     "end_time": "2022-04-26T12:51:49.224842",
     "exception": false,
     "start_time": "2022-04-26T12:51:49.102247",
     "status": "completed"
    },
    "tags": []
   },
   "outputs": [
    {
     "name": "stdout",
     "output_type": "stream",
     "text": [
      "everything is fine\n"
     ]
    }
   ],
   "source": [
    "try:\n",
    "    a = 5 / 1\n",
    "    b = a + 3\n",
    "except ZeroDivisionError as e:\n",
    "    print(e)\n",
    "except TypeError as e:\n",
    "    print(e)\n",
    "else:\n",
    "    print('everything is fine')"
   ]
  },
  {
   "cell_type": "code",
   "execution_count": 110,
   "id": "5ab2227d",
   "metadata": {
    "execution": {
     "iopub.execute_input": "2022-04-26T12:51:49.451878Z",
     "iopub.status.busy": "2022-04-26T12:51:49.451169Z",
     "iopub.status.idle": "2022-04-26T12:51:49.457480Z",
     "shell.execute_reply": "2022-04-26T12:51:49.456497Z"
    },
    "papermill": {
     "duration": 0.123077,
     "end_time": "2022-04-26T12:51:49.459762",
     "exception": false,
     "start_time": "2022-04-26T12:51:49.336685",
     "status": "completed"
    },
    "tags": []
   },
   "outputs": [
    {
     "name": "stdout",
     "output_type": "stream",
     "text": [
      "everything is fine\n",
      "cleaning up ..\n"
     ]
    }
   ],
   "source": [
    "try:\n",
    "    a = 5 / 1\n",
    "    b = a + 3\n",
    "except ZeroDivisionError as e:\n",
    "    print(e)\n",
    "except TypeError as e:\n",
    "    print(e)\n",
    "else:\n",
    "    print('everything is fine')\n",
    "finally:\n",
    "    print('cleaning up ..')"
   ]
  },
  {
   "cell_type": "code",
   "execution_count": 111,
   "id": "ccfcf298",
   "metadata": {
    "execution": {
     "iopub.execute_input": "2022-04-26T12:51:49.687817Z",
     "iopub.status.busy": "2022-04-26T12:51:49.687507Z",
     "iopub.status.idle": "2022-04-26T12:51:49.691675Z",
     "shell.execute_reply": "2022-04-26T12:51:49.690654Z"
    },
    "papermill": {
     "duration": 0.120565,
     "end_time": "2022-04-26T12:51:49.693913",
     "exception": false,
     "start_time": "2022-04-26T12:51:49.573348",
     "status": "completed"
    },
    "tags": []
   },
   "outputs": [],
   "source": [
    "# customize your error\n",
    "\n",
    "# class ValueTooHighError(Exception):\n",
    "#    pass\n",
    "\n",
    "#def test_value(x):\n",
    "#    if x > 100:\n",
    "#        raise ValueTooHighError('value is too high')\n",
    "        \n",
    "# test_value(200)        "
   ]
  },
  {
   "cell_type": "markdown",
   "id": "4c0035d6",
   "metadata": {
    "papermill": {
     "duration": 0.113071,
     "end_time": "2022-04-26T12:51:49.920854",
     "exception": false,
     "start_time": "2022-04-26T12:51:49.807783",
     "status": "completed"
    },
    "tags": []
   },
   "source": [
    "# Logging"
   ]
  },
  {
   "cell_type": "code",
   "execution_count": null,
   "id": "dee12564",
   "metadata": {
    "papermill": {
     "duration": 0.117993,
     "end_time": "2022-04-26T12:51:50.150757",
     "exception": false,
     "start_time": "2022-04-26T12:51:50.032764",
     "status": "completed"
    },
    "tags": []
   },
   "outputs": [],
   "source": []
  }
 ],
 "metadata": {
  "kernelspec": {
   "display_name": "Python 3",
   "language": "python",
   "name": "python3"
  },
  "language_info": {
   "codemirror_mode": {
    "name": "ipython",
    "version": 3
   },
   "file_extension": ".py",
   "mimetype": "text/x-python",
   "name": "python",
   "nbconvert_exporter": "python",
   "pygments_lexer": "ipython3",
   "version": "3.7.12"
  },
  "papermill": {
   "default_parameters": {},
   "duration": 36.499175,
   "end_time": "2022-04-26T12:51:51.187327",
   "environment_variables": {},
   "exception": null,
   "input_path": "__notebook__.ipynb",
   "output_path": "__notebook__.ipynb",
   "parameters": {},
   "start_time": "2022-04-26T12:51:14.688152",
   "version": "2.3.4"
  }
 },
 "nbformat": 4,
 "nbformat_minor": 5
}
